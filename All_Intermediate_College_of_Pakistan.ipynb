{
  "nbformat": 4,
  "nbformat_minor": 0,
  "metadata": {
    "colab": {
      "provenance": [],
      "authorship_tag": "ABX9TyMPsAST3ntqb3jc/cu2MAs1",
      "include_colab_link": true
    },
    "kernelspec": {
      "name": "python3",
      "display_name": "Python 3"
    },
    "language_info": {
      "name": "python"
    }
  },
  "cells": [
    {
      "cell_type": "markdown",
      "metadata": {
        "id": "view-in-github",
        "colab_type": "text"
      },
      "source": [
        "<a href=\"https://colab.research.google.com/github/Mehran-shahzad/Data_Analytics/blob/main/All_Intermediate_College_of_Pakistan.ipynb\" target=\"_parent\"><img src=\"https://colab.research.google.com/assets/colab-badge.svg\" alt=\"Open In Colab\"/></a>"
      ]
    },
    {
      "cell_type": "markdown",
      "source": [
        "# **Data Loading and Overview**"
      ],
      "metadata": {
        "id": "ArkE3szLOkfE"
      }
    },
    {
      "cell_type": "code",
      "execution_count": 1,
      "metadata": {
        "id": "MCnqJPHx-n-0"
      },
      "outputs": [],
      "source": [
        "import pandas as pd\n",
        "import numpy as np\n",
        "import matplotlib.pyplot as plt\n",
        "import seaborn as sns\n",
        "import warnings\n",
        "warnings.filterwarnings('ignore')"
      ]
    },
    {
      "cell_type": "code",
      "source": [
        "df=pd.read_csv('college 2.csv')"
      ],
      "metadata": {
        "id": "AkXB4KTuN-ek"
      },
      "execution_count": 5,
      "outputs": []
    },
    {
      "cell_type": "code",
      "source": [
        "df.head()"
      ],
      "metadata": {
        "colab": {
          "base_uri": "https://localhost:8080/",
          "height": 483
        },
        "id": "C2qB4QM5OL1O",
        "outputId": "dc958aa3-aa7f-44da-cc88-6d2f5f646a28"
      },
      "execution_count": 6,
      "outputs": [
        {
          "output_type": "execute_result",
          "data": {
            "text/plain": [
              "                                         Name  \\\n",
              "0                            Campus.pk Lahore   \n",
              "1    Government College University Gcu Lahore   \n",
              "2      Govt College University GCU Faisalabad   \n",
              "3         Punjab Group of Colleges PGC Lahore   \n",
              "4  Govt College of Science Wahdat Road Lahore   \n",
              "\n",
              "                                           Locations   Sector  \\\n",
              "0  Office 206, 2nd Floor Siddique Trade Center Ma...  Private   \n",
              "1          GC University, Katchery Road Lahore 54000   Public   \n",
              "2                       Kotwali Rd, Faisalabad 38000   Public   \n",
              "3  1 Noon Avenue, New Muslim Town at Canal Bank L...  Private   \n",
              "4     Govt. College of Science, Wahdat Road Lahore,    Public   \n",
              "\n",
              "                                         Affiliation Rating        City  \\\n",
              "0                                                ads     0*      Lahore   \n",
              "1                                                HEC     4*  Faisalabad   \n",
              "2                                                HEC     3*      Lahore   \n",
              "3     University of the Punjab Lahore \\n BISE Lahore     2*      Lahore   \n",
              "4  Board of Intermediate Secondary Education Laho...     3*      Lahore   \n",
              "\n",
              "  study program                                      STUDY PROGRAM  \n",
              "0           FSc                FSc Pre Engineering Fsc Pre Medical  \n",
              "1           FSc  FSc Pre Engineering ICS Computer Science FSc P...  \n",
              "2           FSc  FSc Pre-Engineering ICS FSc Pre-Medical Icom F...  \n",
              "3           FSc  FSc Pre Engineering ICS Computer Science FSc P...  \n",
              "4           FSC  FSC pre Engineering ICS FSC pre medical ICOM F...  "
            ],
            "text/html": [
              "\n",
              "  <div id=\"df-bb910843-6174-4c46-8bb2-0e756383532d\" class=\"colab-df-container\">\n",
              "    <div>\n",
              "<style scoped>\n",
              "    .dataframe tbody tr th:only-of-type {\n",
              "        vertical-align: middle;\n",
              "    }\n",
              "\n",
              "    .dataframe tbody tr th {\n",
              "        vertical-align: top;\n",
              "    }\n",
              "\n",
              "    .dataframe thead th {\n",
              "        text-align: right;\n",
              "    }\n",
              "</style>\n",
              "<table border=\"1\" class=\"dataframe\">\n",
              "  <thead>\n",
              "    <tr style=\"text-align: right;\">\n",
              "      <th></th>\n",
              "      <th>Name</th>\n",
              "      <th>Locations</th>\n",
              "      <th>Sector</th>\n",
              "      <th>Affiliation</th>\n",
              "      <th>Rating</th>\n",
              "      <th>City</th>\n",
              "      <th>study program</th>\n",
              "      <th>STUDY PROGRAM</th>\n",
              "    </tr>\n",
              "  </thead>\n",
              "  <tbody>\n",
              "    <tr>\n",
              "      <th>0</th>\n",
              "      <td>Campus.pk Lahore</td>\n",
              "      <td>Office 206, 2nd Floor Siddique Trade Center Ma...</td>\n",
              "      <td>Private</td>\n",
              "      <td>ads</td>\n",
              "      <td>0*</td>\n",
              "      <td>Lahore</td>\n",
              "      <td>FSc</td>\n",
              "      <td>FSc Pre Engineering Fsc Pre Medical</td>\n",
              "    </tr>\n",
              "    <tr>\n",
              "      <th>1</th>\n",
              "      <td>Government College University Gcu Lahore</td>\n",
              "      <td>GC University, Katchery Road Lahore 54000</td>\n",
              "      <td>Public</td>\n",
              "      <td>HEC</td>\n",
              "      <td>4*</td>\n",
              "      <td>Faisalabad</td>\n",
              "      <td>FSc</td>\n",
              "      <td>FSc Pre Engineering ICS Computer Science FSc P...</td>\n",
              "    </tr>\n",
              "    <tr>\n",
              "      <th>2</th>\n",
              "      <td>Govt College University GCU Faisalabad</td>\n",
              "      <td>Kotwali Rd, Faisalabad 38000</td>\n",
              "      <td>Public</td>\n",
              "      <td>HEC</td>\n",
              "      <td>3*</td>\n",
              "      <td>Lahore</td>\n",
              "      <td>FSc</td>\n",
              "      <td>FSc Pre-Engineering ICS FSc Pre-Medical Icom F...</td>\n",
              "    </tr>\n",
              "    <tr>\n",
              "      <th>3</th>\n",
              "      <td>Punjab Group of Colleges PGC Lahore</td>\n",
              "      <td>1 Noon Avenue, New Muslim Town at Canal Bank L...</td>\n",
              "      <td>Private</td>\n",
              "      <td>University of the Punjab Lahore \\n BISE Lahore</td>\n",
              "      <td>2*</td>\n",
              "      <td>Lahore</td>\n",
              "      <td>FSc</td>\n",
              "      <td>FSc Pre Engineering ICS Computer Science FSc P...</td>\n",
              "    </tr>\n",
              "    <tr>\n",
              "      <th>4</th>\n",
              "      <td>Govt College of Science Wahdat Road Lahore</td>\n",
              "      <td>Govt. College of Science, Wahdat Road Lahore,</td>\n",
              "      <td>Public</td>\n",
              "      <td>Board of Intermediate Secondary Education Laho...</td>\n",
              "      <td>3*</td>\n",
              "      <td>Lahore</td>\n",
              "      <td>FSC</td>\n",
              "      <td>FSC pre Engineering ICS FSC pre medical ICOM F...</td>\n",
              "    </tr>\n",
              "  </tbody>\n",
              "</table>\n",
              "</div>\n",
              "    <div class=\"colab-df-buttons\">\n",
              "\n",
              "  <div class=\"colab-df-container\">\n",
              "    <button class=\"colab-df-convert\" onclick=\"convertToInteractive('df-bb910843-6174-4c46-8bb2-0e756383532d')\"\n",
              "            title=\"Convert this dataframe to an interactive table.\"\n",
              "            style=\"display:none;\">\n",
              "\n",
              "  <svg xmlns=\"http://www.w3.org/2000/svg\" height=\"24px\" viewBox=\"0 -960 960 960\">\n",
              "    <path d=\"M120-120v-720h720v720H120Zm60-500h600v-160H180v160Zm220 220h160v-160H400v160Zm0 220h160v-160H400v160ZM180-400h160v-160H180v160Zm440 0h160v-160H620v160ZM180-180h160v-160H180v160Zm440 0h160v-160H620v160Z\"/>\n",
              "  </svg>\n",
              "    </button>\n",
              "\n",
              "  <style>\n",
              "    .colab-df-container {\n",
              "      display:flex;\n",
              "      gap: 12px;\n",
              "    }\n",
              "\n",
              "    .colab-df-convert {\n",
              "      background-color: #E8F0FE;\n",
              "      border: none;\n",
              "      border-radius: 50%;\n",
              "      cursor: pointer;\n",
              "      display: none;\n",
              "      fill: #1967D2;\n",
              "      height: 32px;\n",
              "      padding: 0 0 0 0;\n",
              "      width: 32px;\n",
              "    }\n",
              "\n",
              "    .colab-df-convert:hover {\n",
              "      background-color: #E2EBFA;\n",
              "      box-shadow: 0px 1px 2px rgba(60, 64, 67, 0.3), 0px 1px 3px 1px rgba(60, 64, 67, 0.15);\n",
              "      fill: #174EA6;\n",
              "    }\n",
              "\n",
              "    .colab-df-buttons div {\n",
              "      margin-bottom: 4px;\n",
              "    }\n",
              "\n",
              "    [theme=dark] .colab-df-convert {\n",
              "      background-color: #3B4455;\n",
              "      fill: #D2E3FC;\n",
              "    }\n",
              "\n",
              "    [theme=dark] .colab-df-convert:hover {\n",
              "      background-color: #434B5C;\n",
              "      box-shadow: 0px 1px 3px 1px rgba(0, 0, 0, 0.15);\n",
              "      filter: drop-shadow(0px 1px 2px rgba(0, 0, 0, 0.3));\n",
              "      fill: #FFFFFF;\n",
              "    }\n",
              "  </style>\n",
              "\n",
              "    <script>\n",
              "      const buttonEl =\n",
              "        document.querySelector('#df-bb910843-6174-4c46-8bb2-0e756383532d button.colab-df-convert');\n",
              "      buttonEl.style.display =\n",
              "        google.colab.kernel.accessAllowed ? 'block' : 'none';\n",
              "\n",
              "      async function convertToInteractive(key) {\n",
              "        const element = document.querySelector('#df-bb910843-6174-4c46-8bb2-0e756383532d');\n",
              "        const dataTable =\n",
              "          await google.colab.kernel.invokeFunction('convertToInteractive',\n",
              "                                                    [key], {});\n",
              "        if (!dataTable) return;\n",
              "\n",
              "        const docLinkHtml = 'Like what you see? Visit the ' +\n",
              "          '<a target=\"_blank\" href=https://colab.research.google.com/notebooks/data_table.ipynb>data table notebook</a>'\n",
              "          + ' to learn more about interactive tables.';\n",
              "        element.innerHTML = '';\n",
              "        dataTable['output_type'] = 'display_data';\n",
              "        await google.colab.output.renderOutput(dataTable, element);\n",
              "        const docLink = document.createElement('div');\n",
              "        docLink.innerHTML = docLinkHtml;\n",
              "        element.appendChild(docLink);\n",
              "      }\n",
              "    </script>\n",
              "  </div>\n",
              "\n",
              "\n",
              "<div id=\"df-66a8abc2-219c-45df-88b9-f1f48f0d7bfc\">\n",
              "  <button class=\"colab-df-quickchart\" onclick=\"quickchart('df-66a8abc2-219c-45df-88b9-f1f48f0d7bfc')\"\n",
              "            title=\"Suggest charts\"\n",
              "            style=\"display:none;\">\n",
              "\n",
              "<svg xmlns=\"http://www.w3.org/2000/svg\" height=\"24px\"viewBox=\"0 0 24 24\"\n",
              "     width=\"24px\">\n",
              "    <g>\n",
              "        <path d=\"M19 3H5c-1.1 0-2 .9-2 2v14c0 1.1.9 2 2 2h14c1.1 0 2-.9 2-2V5c0-1.1-.9-2-2-2zM9 17H7v-7h2v7zm4 0h-2V7h2v10zm4 0h-2v-4h2v4z\"/>\n",
              "    </g>\n",
              "</svg>\n",
              "  </button>\n",
              "\n",
              "<style>\n",
              "  .colab-df-quickchart {\n",
              "      --bg-color: #E8F0FE;\n",
              "      --fill-color: #1967D2;\n",
              "      --hover-bg-color: #E2EBFA;\n",
              "      --hover-fill-color: #174EA6;\n",
              "      --disabled-fill-color: #AAA;\n",
              "      --disabled-bg-color: #DDD;\n",
              "  }\n",
              "\n",
              "  [theme=dark] .colab-df-quickchart {\n",
              "      --bg-color: #3B4455;\n",
              "      --fill-color: #D2E3FC;\n",
              "      --hover-bg-color: #434B5C;\n",
              "      --hover-fill-color: #FFFFFF;\n",
              "      --disabled-bg-color: #3B4455;\n",
              "      --disabled-fill-color: #666;\n",
              "  }\n",
              "\n",
              "  .colab-df-quickchart {\n",
              "    background-color: var(--bg-color);\n",
              "    border: none;\n",
              "    border-radius: 50%;\n",
              "    cursor: pointer;\n",
              "    display: none;\n",
              "    fill: var(--fill-color);\n",
              "    height: 32px;\n",
              "    padding: 0;\n",
              "    width: 32px;\n",
              "  }\n",
              "\n",
              "  .colab-df-quickchart:hover {\n",
              "    background-color: var(--hover-bg-color);\n",
              "    box-shadow: 0 1px 2px rgba(60, 64, 67, 0.3), 0 1px 3px 1px rgba(60, 64, 67, 0.15);\n",
              "    fill: var(--button-hover-fill-color);\n",
              "  }\n",
              "\n",
              "  .colab-df-quickchart-complete:disabled,\n",
              "  .colab-df-quickchart-complete:disabled:hover {\n",
              "    background-color: var(--disabled-bg-color);\n",
              "    fill: var(--disabled-fill-color);\n",
              "    box-shadow: none;\n",
              "  }\n",
              "\n",
              "  .colab-df-spinner {\n",
              "    border: 2px solid var(--fill-color);\n",
              "    border-color: transparent;\n",
              "    border-bottom-color: var(--fill-color);\n",
              "    animation:\n",
              "      spin 1s steps(1) infinite;\n",
              "  }\n",
              "\n",
              "  @keyframes spin {\n",
              "    0% {\n",
              "      border-color: transparent;\n",
              "      border-bottom-color: var(--fill-color);\n",
              "      border-left-color: var(--fill-color);\n",
              "    }\n",
              "    20% {\n",
              "      border-color: transparent;\n",
              "      border-left-color: var(--fill-color);\n",
              "      border-top-color: var(--fill-color);\n",
              "    }\n",
              "    30% {\n",
              "      border-color: transparent;\n",
              "      border-left-color: var(--fill-color);\n",
              "      border-top-color: var(--fill-color);\n",
              "      border-right-color: var(--fill-color);\n",
              "    }\n",
              "    40% {\n",
              "      border-color: transparent;\n",
              "      border-right-color: var(--fill-color);\n",
              "      border-top-color: var(--fill-color);\n",
              "    }\n",
              "    60% {\n",
              "      border-color: transparent;\n",
              "      border-right-color: var(--fill-color);\n",
              "    }\n",
              "    80% {\n",
              "      border-color: transparent;\n",
              "      border-right-color: var(--fill-color);\n",
              "      border-bottom-color: var(--fill-color);\n",
              "    }\n",
              "    90% {\n",
              "      border-color: transparent;\n",
              "      border-bottom-color: var(--fill-color);\n",
              "    }\n",
              "  }\n",
              "</style>\n",
              "\n",
              "  <script>\n",
              "    async function quickchart(key) {\n",
              "      const quickchartButtonEl =\n",
              "        document.querySelector('#' + key + ' button');\n",
              "      quickchartButtonEl.disabled = true;  // To prevent multiple clicks.\n",
              "      quickchartButtonEl.classList.add('colab-df-spinner');\n",
              "      try {\n",
              "        const charts = await google.colab.kernel.invokeFunction(\n",
              "            'suggestCharts', [key], {});\n",
              "      } catch (error) {\n",
              "        console.error('Error during call to suggestCharts:', error);\n",
              "      }\n",
              "      quickchartButtonEl.classList.remove('colab-df-spinner');\n",
              "      quickchartButtonEl.classList.add('colab-df-quickchart-complete');\n",
              "    }\n",
              "    (() => {\n",
              "      let quickchartButtonEl =\n",
              "        document.querySelector('#df-66a8abc2-219c-45df-88b9-f1f48f0d7bfc button');\n",
              "      quickchartButtonEl.style.display =\n",
              "        google.colab.kernel.accessAllowed ? 'block' : 'none';\n",
              "    })();\n",
              "  </script>\n",
              "</div>\n",
              "\n",
              "    </div>\n",
              "  </div>\n"
            ],
            "application/vnd.google.colaboratory.intrinsic+json": {
              "type": "dataframe",
              "variable_name": "df",
              "summary": "{\n  \"name\": \"df\",\n  \"rows\": 75,\n  \"fields\": [\n    {\n      \"column\": \"Name\",\n      \"properties\": {\n        \"dtype\": \"string\",\n        \"num_unique_values\": 75,\n        \"samples\": [\n          \"Govt College of Science Wahdat Road Lahore\",\n          \"SAN Institute of Management Sciences Lahore\",\n          \"Stars Educational Network, Head Office Johar Town Lahore\"\n        ],\n        \"semantic_type\": \"\",\n        \"description\": \"\"\n      }\n    },\n    {\n      \"column\": \"Locations\",\n      \"properties\": {\n        \"dtype\": \"string\",\n        \"num_unique_values\": 75,\n        \"samples\": [\n          \"Govt. College of Science, Wahdat Road Lahore, \",\n          \"29-C/1, Gulberg-III, Lahore - \",\n          \"590-Q, Main Boulevard, Johar Town, Lahore, \"\n        ],\n        \"semantic_type\": \"\",\n        \"description\": \"\"\n      }\n    },\n    {\n      \"column\": \"Sector\",\n      \"properties\": {\n        \"dtype\": \"category\",\n        \"num_unique_values\": 2,\n        \"samples\": [\n          \"Public\",\n          \"Private\"\n        ],\n        \"semantic_type\": \"\",\n        \"description\": \"\"\n      }\n    },\n    {\n      \"column\": \"Affiliation\",\n      \"properties\": {\n        \"dtype\": \"string\",\n        \"num_unique_values\": 52,\n        \"samples\": [\n          \"Board of Intermediate and Secondary Education \\n University of the Punjab Lahore\",\n          \"Federal Board\\nUniversity of the Punjab\"\n        ],\n        \"semantic_type\": \"\",\n        \"description\": \"\"\n      }\n    },\n    {\n      \"column\": \"Rating\",\n      \"properties\": {\n        \"dtype\": \"category\",\n        \"num_unique_values\": 6,\n        \"samples\": [\n          \"0*\",\n          \"4*\"\n        ],\n        \"semantic_type\": \"\",\n        \"description\": \"\"\n      }\n    },\n    {\n      \"column\": \"City\",\n      \"properties\": {\n        \"dtype\": \"category\",\n        \"num_unique_values\": 16,\n        \"samples\": [\n          \"Lahore\",\n          \"Faisalabad\"\n        ],\n        \"semantic_type\": \"\",\n        \"description\": \"\"\n      }\n    },\n    {\n      \"column\": \"study program\",\n      \"properties\": {\n        \"dtype\": \"category\",\n        \"num_unique_values\": 14,\n        \"samples\": [\n          \"Dcom\",\n          \"ICOM\"\n        ],\n        \"semantic_type\": \"\",\n        \"description\": \"\"\n      }\n    },\n    {\n      \"column\": \"STUDY PROGRAM\",\n      \"properties\": {\n        \"dtype\": \"string\",\n        \"num_unique_values\": 67,\n        \"samples\": [\n          \"FA Icom ICs Computer Science Fsc Pre Medical FSc Pre Engineering\",\n          \"Fsc Pre Engineering FSc Pre Medical ICS ICOM FAFA Humanities Fsc General Science\"\n        ],\n        \"semantic_type\": \"\",\n        \"description\": \"\"\n      }\n    }\n  ]\n}"
            }
          },
          "metadata": {},
          "execution_count": 6
        }
      ]
    },
    {
      "cell_type": "code",
      "source": [
        "df.dtypes"
      ],
      "metadata": {
        "colab": {
          "base_uri": "https://localhost:8080/",
          "height": 335
        },
        "id": "LyNinOZVOYMI",
        "outputId": "4ebeab6d-3636-4e6b-a5fe-8d720b8466e9"
      },
      "execution_count": 7,
      "outputs": [
        {
          "output_type": "execute_result",
          "data": {
            "text/plain": [
              "Name             object\n",
              "Locations        object\n",
              "Sector           object\n",
              "Affiliation      object\n",
              "Rating           object\n",
              "City             object\n",
              "study program    object\n",
              "STUDY PROGRAM    object\n",
              "dtype: object"
            ],
            "text/html": [
              "<div>\n",
              "<style scoped>\n",
              "    .dataframe tbody tr th:only-of-type {\n",
              "        vertical-align: middle;\n",
              "    }\n",
              "\n",
              "    .dataframe tbody tr th {\n",
              "        vertical-align: top;\n",
              "    }\n",
              "\n",
              "    .dataframe thead th {\n",
              "        text-align: right;\n",
              "    }\n",
              "</style>\n",
              "<table border=\"1\" class=\"dataframe\">\n",
              "  <thead>\n",
              "    <tr style=\"text-align: right;\">\n",
              "      <th></th>\n",
              "      <th>0</th>\n",
              "    </tr>\n",
              "  </thead>\n",
              "  <tbody>\n",
              "    <tr>\n",
              "      <th>Name</th>\n",
              "      <td>object</td>\n",
              "    </tr>\n",
              "    <tr>\n",
              "      <th>Locations</th>\n",
              "      <td>object</td>\n",
              "    </tr>\n",
              "    <tr>\n",
              "      <th>Sector</th>\n",
              "      <td>object</td>\n",
              "    </tr>\n",
              "    <tr>\n",
              "      <th>Affiliation</th>\n",
              "      <td>object</td>\n",
              "    </tr>\n",
              "    <tr>\n",
              "      <th>Rating</th>\n",
              "      <td>object</td>\n",
              "    </tr>\n",
              "    <tr>\n",
              "      <th>City</th>\n",
              "      <td>object</td>\n",
              "    </tr>\n",
              "    <tr>\n",
              "      <th>study program</th>\n",
              "      <td>object</td>\n",
              "    </tr>\n",
              "    <tr>\n",
              "      <th>STUDY PROGRAM</th>\n",
              "      <td>object</td>\n",
              "    </tr>\n",
              "  </tbody>\n",
              "</table>\n",
              "</div><br><label><b>dtype:</b> object</label>"
            ]
          },
          "metadata": {},
          "execution_count": 7
        }
      ]
    },
    {
      "cell_type": "markdown",
      "source": [
        "# **Data Cleaning**"
      ],
      "metadata": {
        "id": "VO0wTjjZO4Q7"
      }
    },
    {
      "cell_type": "markdown",
      "source": [
        "### **In These Datasets the large number of Null values.I can remove the null values **"
      ],
      "metadata": {
        "id": "E9_vuyBQV6BU"
      }
    },
    {
      "cell_type": "code",
      "source": [
        "df.isnull().sum()"
      ],
      "metadata": {
        "colab": {
          "base_uri": "https://localhost:8080/",
          "height": 335
        },
        "id": "POwnai_JPBEa",
        "outputId": "ed1425b8-38c8-4a03-baa0-24b3967da3b1"
      },
      "execution_count": 8,
      "outputs": [
        {
          "output_type": "execute_result",
          "data": {
            "text/plain": [
              "Name             0\n",
              "Locations        0\n",
              "Sector           0\n",
              "Affiliation      0\n",
              "Rating           0\n",
              "City             0\n",
              "study program    0\n",
              "STUDY PROGRAM    0\n",
              "dtype: int64"
            ],
            "text/html": [
              "<div>\n",
              "<style scoped>\n",
              "    .dataframe tbody tr th:only-of-type {\n",
              "        vertical-align: middle;\n",
              "    }\n",
              "\n",
              "    .dataframe tbody tr th {\n",
              "        vertical-align: top;\n",
              "    }\n",
              "\n",
              "    .dataframe thead th {\n",
              "        text-align: right;\n",
              "    }\n",
              "</style>\n",
              "<table border=\"1\" class=\"dataframe\">\n",
              "  <thead>\n",
              "    <tr style=\"text-align: right;\">\n",
              "      <th></th>\n",
              "      <th>0</th>\n",
              "    </tr>\n",
              "  </thead>\n",
              "  <tbody>\n",
              "    <tr>\n",
              "      <th>Name</th>\n",
              "      <td>0</td>\n",
              "    </tr>\n",
              "    <tr>\n",
              "      <th>Locations</th>\n",
              "      <td>0</td>\n",
              "    </tr>\n",
              "    <tr>\n",
              "      <th>Sector</th>\n",
              "      <td>0</td>\n",
              "    </tr>\n",
              "    <tr>\n",
              "      <th>Affiliation</th>\n",
              "      <td>0</td>\n",
              "    </tr>\n",
              "    <tr>\n",
              "      <th>Rating</th>\n",
              "      <td>0</td>\n",
              "    </tr>\n",
              "    <tr>\n",
              "      <th>City</th>\n",
              "      <td>0</td>\n",
              "    </tr>\n",
              "    <tr>\n",
              "      <th>study program</th>\n",
              "      <td>0</td>\n",
              "    </tr>\n",
              "    <tr>\n",
              "      <th>STUDY PROGRAM</th>\n",
              "      <td>0</td>\n",
              "    </tr>\n",
              "  </tbody>\n",
              "</table>\n",
              "</div><br><label><b>dtype:</b> int64</label>"
            ]
          },
          "metadata": {},
          "execution_count": 8
        }
      ]
    },
    {
      "cell_type": "code",
      "source": [
        "df.dropna(inplace=True)"
      ],
      "metadata": {
        "id": "fLwGFaSXPIUQ"
      },
      "execution_count": 9,
      "outputs": []
    },
    {
      "cell_type": "code",
      "source": [
        "df['Rating'].unique()"
      ],
      "metadata": {
        "colab": {
          "base_uri": "https://localhost:8080/",
          "height": 0
        },
        "id": "yxNzAU13PRJ2",
        "outputId": "d1d80ceb-ef9f-4ab7-e34b-53a5957bc489"
      },
      "execution_count": 10,
      "outputs": [
        {
          "output_type": "execute_result",
          "data": {
            "text/plain": [
              "array(['0*', '4*', '3*', '2*', '1*', '5*'], dtype=object)"
            ]
          },
          "metadata": {},
          "execution_count": 10
        }
      ]
    },
    {
      "cell_type": "code",
      "source": [
        "df['Rating']=df['Rating'].replace({'0*':0,'1*':1,'2*':2,'3*':3,'4*':4,'5*':5})"
      ],
      "metadata": {
        "id": "9hYyLajNPbpH"
      },
      "execution_count": 11,
      "outputs": []
    },
    {
      "cell_type": "code",
      "source": [
        "df['Rating'].unique()"
      ],
      "metadata": {
        "colab": {
          "base_uri": "https://localhost:8080/",
          "height": 0
        },
        "id": "49E1burrQKGE",
        "outputId": "b1f39b6c-ea9f-4feb-b1ec-41540fd9e2dd"
      },
      "execution_count": 12,
      "outputs": [
        {
          "output_type": "execute_result",
          "data": {
            "text/plain": [
              "array([0, 4, 3, 2, 1, 5])"
            ]
          },
          "metadata": {},
          "execution_count": 12
        }
      ]
    },
    {
      "cell_type": "code",
      "source": [
        "df.duplicated().sum()"
      ],
      "metadata": {
        "colab": {
          "base_uri": "https://localhost:8080/",
          "height": 0
        },
        "id": "4_mk9yO0QNUz",
        "outputId": "aa179734-0f9e-4288-dd5a-df20def45bbe"
      },
      "execution_count": 13,
      "outputs": [
        {
          "output_type": "execute_result",
          "data": {
            "text/plain": [
              "0"
            ]
          },
          "metadata": {},
          "execution_count": 13
        }
      ]
    },
    {
      "cell_type": "markdown",
      "source": [
        "# **Basic Statistics**"
      ],
      "metadata": {
        "id": "VAW_1EWWQX0b"
      }
    },
    {
      "cell_type": "code",
      "source": [
        "df.describe()"
      ],
      "metadata": {
        "colab": {
          "base_uri": "https://localhost:8080/",
          "height": 300
        },
        "id": "Y5NWJoq-Qh0P",
        "outputId": "284a946a-61a2-43c4-b20b-14edf6dcc834"
      },
      "execution_count": 14,
      "outputs": [
        {
          "output_type": "execute_result",
          "data": {
            "text/plain": [
              "          Rating\n",
              "count  75.000000\n",
              "mean    1.506667\n",
              "std     2.015972\n",
              "min     0.000000\n",
              "25%     0.000000\n",
              "50%     0.000000\n",
              "75%     3.500000\n",
              "max     5.000000"
            ],
            "text/html": [
              "\n",
              "  <div id=\"df-b1dbc6bd-83da-4c1b-960a-811a563c1da2\" class=\"colab-df-container\">\n",
              "    <div>\n",
              "<style scoped>\n",
              "    .dataframe tbody tr th:only-of-type {\n",
              "        vertical-align: middle;\n",
              "    }\n",
              "\n",
              "    .dataframe tbody tr th {\n",
              "        vertical-align: top;\n",
              "    }\n",
              "\n",
              "    .dataframe thead th {\n",
              "        text-align: right;\n",
              "    }\n",
              "</style>\n",
              "<table border=\"1\" class=\"dataframe\">\n",
              "  <thead>\n",
              "    <tr style=\"text-align: right;\">\n",
              "      <th></th>\n",
              "      <th>Rating</th>\n",
              "    </tr>\n",
              "  </thead>\n",
              "  <tbody>\n",
              "    <tr>\n",
              "      <th>count</th>\n",
              "      <td>75.000000</td>\n",
              "    </tr>\n",
              "    <tr>\n",
              "      <th>mean</th>\n",
              "      <td>1.506667</td>\n",
              "    </tr>\n",
              "    <tr>\n",
              "      <th>std</th>\n",
              "      <td>2.015972</td>\n",
              "    </tr>\n",
              "    <tr>\n",
              "      <th>min</th>\n",
              "      <td>0.000000</td>\n",
              "    </tr>\n",
              "    <tr>\n",
              "      <th>25%</th>\n",
              "      <td>0.000000</td>\n",
              "    </tr>\n",
              "    <tr>\n",
              "      <th>50%</th>\n",
              "      <td>0.000000</td>\n",
              "    </tr>\n",
              "    <tr>\n",
              "      <th>75%</th>\n",
              "      <td>3.500000</td>\n",
              "    </tr>\n",
              "    <tr>\n",
              "      <th>max</th>\n",
              "      <td>5.000000</td>\n",
              "    </tr>\n",
              "  </tbody>\n",
              "</table>\n",
              "</div>\n",
              "    <div class=\"colab-df-buttons\">\n",
              "\n",
              "  <div class=\"colab-df-container\">\n",
              "    <button class=\"colab-df-convert\" onclick=\"convertToInteractive('df-b1dbc6bd-83da-4c1b-960a-811a563c1da2')\"\n",
              "            title=\"Convert this dataframe to an interactive table.\"\n",
              "            style=\"display:none;\">\n",
              "\n",
              "  <svg xmlns=\"http://www.w3.org/2000/svg\" height=\"24px\" viewBox=\"0 -960 960 960\">\n",
              "    <path d=\"M120-120v-720h720v720H120Zm60-500h600v-160H180v160Zm220 220h160v-160H400v160Zm0 220h160v-160H400v160ZM180-400h160v-160H180v160Zm440 0h160v-160H620v160ZM180-180h160v-160H180v160Zm440 0h160v-160H620v160Z\"/>\n",
              "  </svg>\n",
              "    </button>\n",
              "\n",
              "  <style>\n",
              "    .colab-df-container {\n",
              "      display:flex;\n",
              "      gap: 12px;\n",
              "    }\n",
              "\n",
              "    .colab-df-convert {\n",
              "      background-color: #E8F0FE;\n",
              "      border: none;\n",
              "      border-radius: 50%;\n",
              "      cursor: pointer;\n",
              "      display: none;\n",
              "      fill: #1967D2;\n",
              "      height: 32px;\n",
              "      padding: 0 0 0 0;\n",
              "      width: 32px;\n",
              "    }\n",
              "\n",
              "    .colab-df-convert:hover {\n",
              "      background-color: #E2EBFA;\n",
              "      box-shadow: 0px 1px 2px rgba(60, 64, 67, 0.3), 0px 1px 3px 1px rgba(60, 64, 67, 0.15);\n",
              "      fill: #174EA6;\n",
              "    }\n",
              "\n",
              "    .colab-df-buttons div {\n",
              "      margin-bottom: 4px;\n",
              "    }\n",
              "\n",
              "    [theme=dark] .colab-df-convert {\n",
              "      background-color: #3B4455;\n",
              "      fill: #D2E3FC;\n",
              "    }\n",
              "\n",
              "    [theme=dark] .colab-df-convert:hover {\n",
              "      background-color: #434B5C;\n",
              "      box-shadow: 0px 1px 3px 1px rgba(0, 0, 0, 0.15);\n",
              "      filter: drop-shadow(0px 1px 2px rgba(0, 0, 0, 0.3));\n",
              "      fill: #FFFFFF;\n",
              "    }\n",
              "  </style>\n",
              "\n",
              "    <script>\n",
              "      const buttonEl =\n",
              "        document.querySelector('#df-b1dbc6bd-83da-4c1b-960a-811a563c1da2 button.colab-df-convert');\n",
              "      buttonEl.style.display =\n",
              "        google.colab.kernel.accessAllowed ? 'block' : 'none';\n",
              "\n",
              "      async function convertToInteractive(key) {\n",
              "        const element = document.querySelector('#df-b1dbc6bd-83da-4c1b-960a-811a563c1da2');\n",
              "        const dataTable =\n",
              "          await google.colab.kernel.invokeFunction('convertToInteractive',\n",
              "                                                    [key], {});\n",
              "        if (!dataTable) return;\n",
              "\n",
              "        const docLinkHtml = 'Like what you see? Visit the ' +\n",
              "          '<a target=\"_blank\" href=https://colab.research.google.com/notebooks/data_table.ipynb>data table notebook</a>'\n",
              "          + ' to learn more about interactive tables.';\n",
              "        element.innerHTML = '';\n",
              "        dataTable['output_type'] = 'display_data';\n",
              "        await google.colab.output.renderOutput(dataTable, element);\n",
              "        const docLink = document.createElement('div');\n",
              "        docLink.innerHTML = docLinkHtml;\n",
              "        element.appendChild(docLink);\n",
              "      }\n",
              "    </script>\n",
              "  </div>\n",
              "\n",
              "\n",
              "<div id=\"df-34151559-194a-443c-98c2-7e219e7da058\">\n",
              "  <button class=\"colab-df-quickchart\" onclick=\"quickchart('df-34151559-194a-443c-98c2-7e219e7da058')\"\n",
              "            title=\"Suggest charts\"\n",
              "            style=\"display:none;\">\n",
              "\n",
              "<svg xmlns=\"http://www.w3.org/2000/svg\" height=\"24px\"viewBox=\"0 0 24 24\"\n",
              "     width=\"24px\">\n",
              "    <g>\n",
              "        <path d=\"M19 3H5c-1.1 0-2 .9-2 2v14c0 1.1.9 2 2 2h14c1.1 0 2-.9 2-2V5c0-1.1-.9-2-2-2zM9 17H7v-7h2v7zm4 0h-2V7h2v10zm4 0h-2v-4h2v4z\"/>\n",
              "    </g>\n",
              "</svg>\n",
              "  </button>\n",
              "\n",
              "<style>\n",
              "  .colab-df-quickchart {\n",
              "      --bg-color: #E8F0FE;\n",
              "      --fill-color: #1967D2;\n",
              "      --hover-bg-color: #E2EBFA;\n",
              "      --hover-fill-color: #174EA6;\n",
              "      --disabled-fill-color: #AAA;\n",
              "      --disabled-bg-color: #DDD;\n",
              "  }\n",
              "\n",
              "  [theme=dark] .colab-df-quickchart {\n",
              "      --bg-color: #3B4455;\n",
              "      --fill-color: #D2E3FC;\n",
              "      --hover-bg-color: #434B5C;\n",
              "      --hover-fill-color: #FFFFFF;\n",
              "      --disabled-bg-color: #3B4455;\n",
              "      --disabled-fill-color: #666;\n",
              "  }\n",
              "\n",
              "  .colab-df-quickchart {\n",
              "    background-color: var(--bg-color);\n",
              "    border: none;\n",
              "    border-radius: 50%;\n",
              "    cursor: pointer;\n",
              "    display: none;\n",
              "    fill: var(--fill-color);\n",
              "    height: 32px;\n",
              "    padding: 0;\n",
              "    width: 32px;\n",
              "  }\n",
              "\n",
              "  .colab-df-quickchart:hover {\n",
              "    background-color: var(--hover-bg-color);\n",
              "    box-shadow: 0 1px 2px rgba(60, 64, 67, 0.3), 0 1px 3px 1px rgba(60, 64, 67, 0.15);\n",
              "    fill: var(--button-hover-fill-color);\n",
              "  }\n",
              "\n",
              "  .colab-df-quickchart-complete:disabled,\n",
              "  .colab-df-quickchart-complete:disabled:hover {\n",
              "    background-color: var(--disabled-bg-color);\n",
              "    fill: var(--disabled-fill-color);\n",
              "    box-shadow: none;\n",
              "  }\n",
              "\n",
              "  .colab-df-spinner {\n",
              "    border: 2px solid var(--fill-color);\n",
              "    border-color: transparent;\n",
              "    border-bottom-color: var(--fill-color);\n",
              "    animation:\n",
              "      spin 1s steps(1) infinite;\n",
              "  }\n",
              "\n",
              "  @keyframes spin {\n",
              "    0% {\n",
              "      border-color: transparent;\n",
              "      border-bottom-color: var(--fill-color);\n",
              "      border-left-color: var(--fill-color);\n",
              "    }\n",
              "    20% {\n",
              "      border-color: transparent;\n",
              "      border-left-color: var(--fill-color);\n",
              "      border-top-color: var(--fill-color);\n",
              "    }\n",
              "    30% {\n",
              "      border-color: transparent;\n",
              "      border-left-color: var(--fill-color);\n",
              "      border-top-color: var(--fill-color);\n",
              "      border-right-color: var(--fill-color);\n",
              "    }\n",
              "    40% {\n",
              "      border-color: transparent;\n",
              "      border-right-color: var(--fill-color);\n",
              "      border-top-color: var(--fill-color);\n",
              "    }\n",
              "    60% {\n",
              "      border-color: transparent;\n",
              "      border-right-color: var(--fill-color);\n",
              "    }\n",
              "    80% {\n",
              "      border-color: transparent;\n",
              "      border-right-color: var(--fill-color);\n",
              "      border-bottom-color: var(--fill-color);\n",
              "    }\n",
              "    90% {\n",
              "      border-color: transparent;\n",
              "      border-bottom-color: var(--fill-color);\n",
              "    }\n",
              "  }\n",
              "</style>\n",
              "\n",
              "  <script>\n",
              "    async function quickchart(key) {\n",
              "      const quickchartButtonEl =\n",
              "        document.querySelector('#' + key + ' button');\n",
              "      quickchartButtonEl.disabled = true;  // To prevent multiple clicks.\n",
              "      quickchartButtonEl.classList.add('colab-df-spinner');\n",
              "      try {\n",
              "        const charts = await google.colab.kernel.invokeFunction(\n",
              "            'suggestCharts', [key], {});\n",
              "      } catch (error) {\n",
              "        console.error('Error during call to suggestCharts:', error);\n",
              "      }\n",
              "      quickchartButtonEl.classList.remove('colab-df-spinner');\n",
              "      quickchartButtonEl.classList.add('colab-df-quickchart-complete');\n",
              "    }\n",
              "    (() => {\n",
              "      let quickchartButtonEl =\n",
              "        document.querySelector('#df-34151559-194a-443c-98c2-7e219e7da058 button');\n",
              "      quickchartButtonEl.style.display =\n",
              "        google.colab.kernel.accessAllowed ? 'block' : 'none';\n",
              "    })();\n",
              "  </script>\n",
              "</div>\n",
              "\n",
              "    </div>\n",
              "  </div>\n"
            ],
            "application/vnd.google.colaboratory.intrinsic+json": {
              "type": "dataframe",
              "summary": "{\n  \"name\": \"df\",\n  \"rows\": 8,\n  \"fields\": [\n    {\n      \"column\": \"Rating\",\n      \"properties\": {\n        \"dtype\": \"number\",\n        \"std\": 25.972421439224252,\n        \"min\": 0.0,\n        \"max\": 75.0,\n        \"num_unique_values\": 6,\n        \"samples\": [\n          75.0,\n          1.5066666666666666,\n          5.0\n        ],\n        \"semantic_type\": \"\",\n        \"description\": \"\"\n      }\n    }\n  ]\n}"
            }
          },
          "metadata": {},
          "execution_count": 14
        }
      ]
    },
    {
      "cell_type": "code",
      "source": [
        "df['Rating'].value_counts()"
      ],
      "metadata": {
        "colab": {
          "base_uri": "https://localhost:8080/",
          "height": 303
        },
        "id": "IQvzb3qAQv60",
        "outputId": "02417fa1-779f-495f-d41c-0f2f84420a4d"
      },
      "execution_count": 15,
      "outputs": [
        {
          "output_type": "execute_result",
          "data": {
            "text/plain": [
              "Rating\n",
              "0    45\n",
              "5    11\n",
              "4     8\n",
              "3     6\n",
              "2     3\n",
              "1     2\n",
              "Name: count, dtype: int64"
            ],
            "text/html": [
              "<div>\n",
              "<style scoped>\n",
              "    .dataframe tbody tr th:only-of-type {\n",
              "        vertical-align: middle;\n",
              "    }\n",
              "\n",
              "    .dataframe tbody tr th {\n",
              "        vertical-align: top;\n",
              "    }\n",
              "\n",
              "    .dataframe thead th {\n",
              "        text-align: right;\n",
              "    }\n",
              "</style>\n",
              "<table border=\"1\" class=\"dataframe\">\n",
              "  <thead>\n",
              "    <tr style=\"text-align: right;\">\n",
              "      <th></th>\n",
              "      <th>count</th>\n",
              "    </tr>\n",
              "    <tr>\n",
              "      <th>Rating</th>\n",
              "      <th></th>\n",
              "    </tr>\n",
              "  </thead>\n",
              "  <tbody>\n",
              "    <tr>\n",
              "      <th>0</th>\n",
              "      <td>45</td>\n",
              "    </tr>\n",
              "    <tr>\n",
              "      <th>5</th>\n",
              "      <td>11</td>\n",
              "    </tr>\n",
              "    <tr>\n",
              "      <th>4</th>\n",
              "      <td>8</td>\n",
              "    </tr>\n",
              "    <tr>\n",
              "      <th>3</th>\n",
              "      <td>6</td>\n",
              "    </tr>\n",
              "    <tr>\n",
              "      <th>2</th>\n",
              "      <td>3</td>\n",
              "    </tr>\n",
              "    <tr>\n",
              "      <th>1</th>\n",
              "      <td>2</td>\n",
              "    </tr>\n",
              "  </tbody>\n",
              "</table>\n",
              "</div><br><label><b>dtype:</b> int64</label>"
            ]
          },
          "metadata": {},
          "execution_count": 15
        }
      ]
    },
    {
      "cell_type": "code",
      "source": [
        "df['Rating'].mean()"
      ],
      "metadata": {
        "colab": {
          "base_uri": "https://localhost:8080/",
          "height": 0
        },
        "id": "1ABXzSziRGNn",
        "outputId": "57c33a37-2fe5-425f-917b-c0048272c2b9"
      },
      "execution_count": 16,
      "outputs": [
        {
          "output_type": "execute_result",
          "data": {
            "text/plain": [
              "1.5066666666666666"
            ]
          },
          "metadata": {},
          "execution_count": 16
        }
      ]
    },
    {
      "cell_type": "code",
      "source": [
        "df['Rating'].median()"
      ],
      "metadata": {
        "colab": {
          "base_uri": "https://localhost:8080/",
          "height": 0
        },
        "id": "h8b1UCJ7RSSS",
        "outputId": "76a070ef-1c00-4349-aba6-606d7593dc31"
      },
      "execution_count": 17,
      "outputs": [
        {
          "output_type": "execute_result",
          "data": {
            "text/plain": [
              "0.0"
            ]
          },
          "metadata": {},
          "execution_count": 17
        }
      ]
    },
    {
      "cell_type": "code",
      "source": [
        "df['Rating'].mode()"
      ],
      "metadata": {
        "colab": {
          "base_uri": "https://localhost:8080/",
          "height": 115
        },
        "id": "VgBu93-uRhBe",
        "outputId": "e92436e0-dcbe-4772-a678-295c5521bc6e"
      },
      "execution_count": 18,
      "outputs": [
        {
          "output_type": "execute_result",
          "data": {
            "text/plain": [
              "0    0\n",
              "Name: Rating, dtype: int64"
            ],
            "text/html": [
              "<div>\n",
              "<style scoped>\n",
              "    .dataframe tbody tr th:only-of-type {\n",
              "        vertical-align: middle;\n",
              "    }\n",
              "\n",
              "    .dataframe tbody tr th {\n",
              "        vertical-align: top;\n",
              "    }\n",
              "\n",
              "    .dataframe thead th {\n",
              "        text-align: right;\n",
              "    }\n",
              "</style>\n",
              "<table border=\"1\" class=\"dataframe\">\n",
              "  <thead>\n",
              "    <tr style=\"text-align: right;\">\n",
              "      <th></th>\n",
              "      <th>Rating</th>\n",
              "    </tr>\n",
              "  </thead>\n",
              "  <tbody>\n",
              "    <tr>\n",
              "      <th>0</th>\n",
              "      <td>0</td>\n",
              "    </tr>\n",
              "  </tbody>\n",
              "</table>\n",
              "</div><br><label><b>dtype:</b> int64</label>"
            ]
          },
          "metadata": {},
          "execution_count": 18
        }
      ]
    },
    {
      "cell_type": "code",
      "source": [
        "df['Rating'].std()"
      ],
      "metadata": {
        "colab": {
          "base_uri": "https://localhost:8080/",
          "height": 0
        },
        "id": "67Lqo09ERn0G",
        "outputId": "aad33a0c-b6c7-4e87-97fc-7245894e241d"
      },
      "execution_count": 19,
      "outputs": [
        {
          "output_type": "execute_result",
          "data": {
            "text/plain": [
              "2.0159722577813777"
            ]
          },
          "metadata": {},
          "execution_count": 19
        }
      ]
    },
    {
      "cell_type": "markdown",
      "source": [
        "# **Affiliation Analysis**\n",
        "\n",
        "\n",
        "\n"
      ],
      "metadata": {
        "id": "i_3H94puY9wH"
      }
    },
    {
      "cell_type": "markdown",
      "source": [
        "### **How many college are affiliated with the university of the punjab**"
      ],
      "metadata": {
        "id": "Dff9cAFxZIJ-"
      }
    },
    {
      "cell_type": "code",
      "source": [
        "df[df['Affiliation'].str.contains('University of the Punjab')].shape[0]"
      ],
      "metadata": {
        "colab": {
          "base_uri": "https://localhost:8080/",
          "height": 0
        },
        "id": "fwQOKyD5YY51",
        "outputId": "dc251538-3ec1-4e82-efec-e3c93127904e"
      },
      "execution_count": 20,
      "outputs": [
        {
          "output_type": "execute_result",
          "data": {
            "text/plain": [
              "16"
            ]
          },
          "metadata": {},
          "execution_count": 20
        }
      ]
    },
    {
      "cell_type": "markdown",
      "source": [
        "### **Distribution of College based on their Affiliation with HEC**"
      ],
      "metadata": {
        "id": "l05vdH7fbRH9"
      }
    },
    {
      "cell_type": "code",
      "source": [
        "df['Affiliation'].value_counts()"
      ],
      "metadata": {
        "colab": {
          "base_uri": "https://localhost:8080/",
          "height": 1780
        },
        "id": "8xpDXlLLZHYh",
        "outputId": "882f1b66-115c-4c47-de96-b53b942a92c1"
      },
      "execution_count": 21,
      "outputs": [
        {
          "output_type": "execute_result",
          "data": {
            "text/plain": [
              "Affiliation\n",
              "University of punjab                                                                                                                                           6\n",
              "BISE Lahore \\n University of the Punjab Lahore                                                                                                                 3\n",
              "Board of Intermediate and Secondary Education Lahore \\n University of the Punjab Lahore                                                                        3\n",
              "Federal Board and Punjab University                                                                                                                            3\n",
              "BISE Lahore \\n Punjab University Lahore                                                                                                                        3\n",
              "University of Sargodha                                                                                                                                         2\n",
              "Federal Board                                                                                                                                                  2\n",
              "Punjab University\\nBahauddin Zakariya University\\nBISE Lahore                                                                                                  2\n",
              "HEC                                                                                                                                                            2\n",
              "BISE Lahore Board & Punjab University Lahore                                                                                                                   2\n",
              "University of Peshawar                                                                                                                                         2\n",
              "BISE Lahore                                                                                                                                                    2\n",
              "BISE Lahore \\n Punjab University                                                                                                                               2\n",
              "University of the Punjab Lahore \\n BISE Lahore                                                                                                                 2\n",
              "Lahore Board\\nPunjab University                                                                                                                                2\n",
              "University of the Punjab\\nUniversity of Sargodha\\nBoard of Intermediate & Secondary Education, Rwp\\nFederal Board of Intermediate & Secondary Education        1\n",
              "Gomal University, D I Khan\\nUniversity of Engineering and Technology (UET), Taxila                                                                             1\n",
              "Punjab Universty                                                                                                                                               1\n",
              "Air University                                                                                                                                                 1\n",
              "ads                                                                                                                                                            1\n",
              "University of the Punjab                                                                                                                                       1\n",
              "BISE Lahore\\nUniversity of the Punjab Lahore \\n University of Engineering and Technology Lahroe                                                                1\n",
              "Federal Board\\nUniversity of the Punjab                                                                                                                        1\n",
              "University of PeshawarBISE PeshawarBTE Peshawar                                                                                                                1\n",
              "BISE Faisalabad, PBTE Lahore, University of Sargodha                                                                                                           1\n",
              "Federal Board & University of Gujrat                                                                                                                           1\n",
              "BISE Lahore\\nP.B.T.E Lahore\\nP.I.T.B Lahore\\nSkill Development Council Lahore\\nPakistan Computer Bureau\\nPSEB\\nP@SHA\\nNational Training Bureau\\nI.T.U Cisco    1\n",
              "Riphah International University (RIU Islamabad                                                                                                                 1\n",
              "Govt of Punjab, Punjab University, Punjab Board of Technical Education, Gujranwala Board                                                                       1\n",
              "UOB and Bise Quetta                                                                                                                                            1\n",
              "FBISE IslamabadUniversity of Gujrat                                                                                                                            1\n",
              "BISE Multan                                                                                                                                                    1\n",
              "The University of Sargodha                                                                                                                                     1\n",
              "BISE Rawalpindi                                                                                                                                                1\n",
              "Al Hamd Islamic University                                                                                                                                     1\n",
              "Board of Intermediate Secondary Education Lahore \\n University of the Punjab Lahore                                                                            1\n",
              "Higher Education Commission                                                                                                                                    1\n",
              "University of the Punjab Lahore                                                                                                                                1\n",
              "Federal Board of Intermediate and Secondary Education, Islamabad.\\nSarhad University of science & IT, Peshawar.                                                1\n",
              "Degree awarding institution                                                                                                                                    1\n",
              "Roots College International, Rawalpindi                                                                                                                        1\n",
              "University of the Punjab Lahore \\nBahauddin Zakariya University Multan                                                                                         1\n",
              "Govt of Punjab, BISE Gujranwala, University of Punjab, University of Sargodha                                                                                  1\n",
              "BISE Gujranwala                                                                                                                                                1\n",
              "Punjab Board of Technical Education                                                                                                                            1\n",
              "Punjab University br>Bahauddin Zakariya University\\nBISE Lahore                                                                                                1\n",
              "Board of Intermediate and Secondary Education \\n University of the Punjab Lahore                                                                               1\n",
              "GC University Faisalabad                                                                                                                                       1\n",
              "TEVTA                                                                                                                                                          1\n",
              "UET Lahore                                                                                                                                                     1\n",
              "TEVTA and PBTE Lahore                                                                                                                                          1\n",
              "Punjab University                                                                                                                                              1\n",
              "Name: count, dtype: int64"
            ],
            "text/html": [
              "<div>\n",
              "<style scoped>\n",
              "    .dataframe tbody tr th:only-of-type {\n",
              "        vertical-align: middle;\n",
              "    }\n",
              "\n",
              "    .dataframe tbody tr th {\n",
              "        vertical-align: top;\n",
              "    }\n",
              "\n",
              "    .dataframe thead th {\n",
              "        text-align: right;\n",
              "    }\n",
              "</style>\n",
              "<table border=\"1\" class=\"dataframe\">\n",
              "  <thead>\n",
              "    <tr style=\"text-align: right;\">\n",
              "      <th></th>\n",
              "      <th>count</th>\n",
              "    </tr>\n",
              "    <tr>\n",
              "      <th>Affiliation</th>\n",
              "      <th></th>\n",
              "    </tr>\n",
              "  </thead>\n",
              "  <tbody>\n",
              "    <tr>\n",
              "      <th>University of punjab</th>\n",
              "      <td>6</td>\n",
              "    </tr>\n",
              "    <tr>\n",
              "      <th>BISE Lahore \\n University of the Punjab Lahore</th>\n",
              "      <td>3</td>\n",
              "    </tr>\n",
              "    <tr>\n",
              "      <th>Board of Intermediate and Secondary Education Lahore \\n University of the Punjab Lahore</th>\n",
              "      <td>3</td>\n",
              "    </tr>\n",
              "    <tr>\n",
              "      <th>Federal Board and Punjab University</th>\n",
              "      <td>3</td>\n",
              "    </tr>\n",
              "    <tr>\n",
              "      <th>BISE Lahore \\n Punjab University Lahore</th>\n",
              "      <td>3</td>\n",
              "    </tr>\n",
              "    <tr>\n",
              "      <th>University of Sargodha</th>\n",
              "      <td>2</td>\n",
              "    </tr>\n",
              "    <tr>\n",
              "      <th>Federal Board</th>\n",
              "      <td>2</td>\n",
              "    </tr>\n",
              "    <tr>\n",
              "      <th>Punjab University\\nBahauddin Zakariya University\\nBISE Lahore</th>\n",
              "      <td>2</td>\n",
              "    </tr>\n",
              "    <tr>\n",
              "      <th>HEC</th>\n",
              "      <td>2</td>\n",
              "    </tr>\n",
              "    <tr>\n",
              "      <th>BISE Lahore Board &amp; Punjab University Lahore</th>\n",
              "      <td>2</td>\n",
              "    </tr>\n",
              "    <tr>\n",
              "      <th>University of Peshawar</th>\n",
              "      <td>2</td>\n",
              "    </tr>\n",
              "    <tr>\n",
              "      <th>BISE Lahore</th>\n",
              "      <td>2</td>\n",
              "    </tr>\n",
              "    <tr>\n",
              "      <th>BISE Lahore \\n Punjab University</th>\n",
              "      <td>2</td>\n",
              "    </tr>\n",
              "    <tr>\n",
              "      <th>University of the Punjab Lahore \\n BISE Lahore</th>\n",
              "      <td>2</td>\n",
              "    </tr>\n",
              "    <tr>\n",
              "      <th>Lahore Board\\nPunjab University</th>\n",
              "      <td>2</td>\n",
              "    </tr>\n",
              "    <tr>\n",
              "      <th>University of the Punjab\\nUniversity of Sargodha\\nBoard of Intermediate &amp; Secondary Education, Rwp\\nFederal Board of Intermediate &amp; Secondary Education</th>\n",
              "      <td>1</td>\n",
              "    </tr>\n",
              "    <tr>\n",
              "      <th>Gomal University, D I Khan\\nUniversity of Engineering and Technology (UET), Taxila</th>\n",
              "      <td>1</td>\n",
              "    </tr>\n",
              "    <tr>\n",
              "      <th>Punjab Universty</th>\n",
              "      <td>1</td>\n",
              "    </tr>\n",
              "    <tr>\n",
              "      <th>Air University</th>\n",
              "      <td>1</td>\n",
              "    </tr>\n",
              "    <tr>\n",
              "      <th>ads</th>\n",
              "      <td>1</td>\n",
              "    </tr>\n",
              "    <tr>\n",
              "      <th>University of the Punjab</th>\n",
              "      <td>1</td>\n",
              "    </tr>\n",
              "    <tr>\n",
              "      <th>BISE Lahore\\nUniversity of the Punjab Lahore \\n University of Engineering and Technology Lahroe</th>\n",
              "      <td>1</td>\n",
              "    </tr>\n",
              "    <tr>\n",
              "      <th>Federal Board\\nUniversity of the Punjab</th>\n",
              "      <td>1</td>\n",
              "    </tr>\n",
              "    <tr>\n",
              "      <th>University of PeshawarBISE PeshawarBTE Peshawar</th>\n",
              "      <td>1</td>\n",
              "    </tr>\n",
              "    <tr>\n",
              "      <th>BISE Faisalabad, PBTE Lahore, University of Sargodha</th>\n",
              "      <td>1</td>\n",
              "    </tr>\n",
              "    <tr>\n",
              "      <th>Federal Board &amp; University of Gujrat</th>\n",
              "      <td>1</td>\n",
              "    </tr>\n",
              "    <tr>\n",
              "      <th>BISE Lahore\\nP.B.T.E Lahore\\nP.I.T.B Lahore\\nSkill Development Council Lahore\\nPakistan Computer Bureau\\nPSEB\\nP@SHA\\nNational Training Bureau\\nI.T.U Cisco</th>\n",
              "      <td>1</td>\n",
              "    </tr>\n",
              "    <tr>\n",
              "      <th>Riphah International University (RIU Islamabad</th>\n",
              "      <td>1</td>\n",
              "    </tr>\n",
              "    <tr>\n",
              "      <th>Govt of Punjab, Punjab University, Punjab Board of Technical Education, Gujranwala Board</th>\n",
              "      <td>1</td>\n",
              "    </tr>\n",
              "    <tr>\n",
              "      <th>UOB and Bise Quetta</th>\n",
              "      <td>1</td>\n",
              "    </tr>\n",
              "    <tr>\n",
              "      <th>FBISE IslamabadUniversity of Gujrat</th>\n",
              "      <td>1</td>\n",
              "    </tr>\n",
              "    <tr>\n",
              "      <th>BISE Multan</th>\n",
              "      <td>1</td>\n",
              "    </tr>\n",
              "    <tr>\n",
              "      <th>The University of Sargodha</th>\n",
              "      <td>1</td>\n",
              "    </tr>\n",
              "    <tr>\n",
              "      <th>BISE Rawalpindi</th>\n",
              "      <td>1</td>\n",
              "    </tr>\n",
              "    <tr>\n",
              "      <th>Al Hamd Islamic University</th>\n",
              "      <td>1</td>\n",
              "    </tr>\n",
              "    <tr>\n",
              "      <th>Board of Intermediate Secondary Education Lahore \\n University of the Punjab Lahore</th>\n",
              "      <td>1</td>\n",
              "    </tr>\n",
              "    <tr>\n",
              "      <th>Higher Education Commission</th>\n",
              "      <td>1</td>\n",
              "    </tr>\n",
              "    <tr>\n",
              "      <th>University of the Punjab Lahore</th>\n",
              "      <td>1</td>\n",
              "    </tr>\n",
              "    <tr>\n",
              "      <th>Federal Board of Intermediate and Secondary Education, Islamabad.\\nSarhad University of science &amp; IT, Peshawar.</th>\n",
              "      <td>1</td>\n",
              "    </tr>\n",
              "    <tr>\n",
              "      <th>Degree awarding institution</th>\n",
              "      <td>1</td>\n",
              "    </tr>\n",
              "    <tr>\n",
              "      <th>Roots College International, Rawalpindi</th>\n",
              "      <td>1</td>\n",
              "    </tr>\n",
              "    <tr>\n",
              "      <th>University of the Punjab Lahore \\nBahauddin Zakariya University Multan</th>\n",
              "      <td>1</td>\n",
              "    </tr>\n",
              "    <tr>\n",
              "      <th>Govt of Punjab, BISE Gujranwala, University of Punjab, University of Sargodha</th>\n",
              "      <td>1</td>\n",
              "    </tr>\n",
              "    <tr>\n",
              "      <th>BISE Gujranwala</th>\n",
              "      <td>1</td>\n",
              "    </tr>\n",
              "    <tr>\n",
              "      <th>Punjab Board of Technical Education</th>\n",
              "      <td>1</td>\n",
              "    </tr>\n",
              "    <tr>\n",
              "      <th>Punjab University br&gt;Bahauddin Zakariya University\\nBISE Lahore</th>\n",
              "      <td>1</td>\n",
              "    </tr>\n",
              "    <tr>\n",
              "      <th>Board of Intermediate and Secondary Education \\n University of the Punjab Lahore</th>\n",
              "      <td>1</td>\n",
              "    </tr>\n",
              "    <tr>\n",
              "      <th>GC University Faisalabad</th>\n",
              "      <td>1</td>\n",
              "    </tr>\n",
              "    <tr>\n",
              "      <th>TEVTA</th>\n",
              "      <td>1</td>\n",
              "    </tr>\n",
              "    <tr>\n",
              "      <th>UET Lahore</th>\n",
              "      <td>1</td>\n",
              "    </tr>\n",
              "    <tr>\n",
              "      <th>TEVTA and PBTE Lahore</th>\n",
              "      <td>1</td>\n",
              "    </tr>\n",
              "    <tr>\n",
              "      <th>Punjab University</th>\n",
              "      <td>1</td>\n",
              "    </tr>\n",
              "  </tbody>\n",
              "</table>\n",
              "</div><br><label><b>dtype:</b> int64</label>"
            ]
          },
          "metadata": {},
          "execution_count": 21
        }
      ]
    },
    {
      "cell_type": "markdown",
      "source": [
        "### :**EXAMPLE:How many colleges are Affiliated with BISE Lahore**"
      ],
      "metadata": {
        "id": "BfiQvgu9b6NE"
      }
    },
    {
      "cell_type": "code",
      "source": [
        "df[df['Affiliation'].str.contains('BISE Lahore')].shape[0]"
      ],
      "metadata": {
        "colab": {
          "base_uri": "https://localhost:8080/",
          "height": 0
        },
        "id": "pO2lWFPBag0G",
        "outputId": "cb446e8f-4ff0-4586-f1df-25d0fa733067"
      },
      "execution_count": 22,
      "outputs": [
        {
          "output_type": "execute_result",
          "data": {
            "text/plain": [
              "19"
            ]
          },
          "metadata": {},
          "execution_count": 22
        }
      ]
    },
    {
      "cell_type": "markdown",
      "source": [
        "### **Percentage of college are Affiliated with public and private institutions**"
      ],
      "metadata": {
        "id": "BBiGR8Umc_8B"
      }
    },
    {
      "cell_type": "code",
      "source": [
        "df['Sector'].value_counts(normalize=True)"
      ],
      "metadata": {
        "colab": {
          "base_uri": "https://localhost:8080/",
          "height": 178
        },
        "id": "NemQH81BcdxG",
        "outputId": "7f7ad409-9185-43d9-f463-f79816d5987c"
      },
      "execution_count": 23,
      "outputs": [
        {
          "output_type": "execute_result",
          "data": {
            "text/plain": [
              "Sector\n",
              "Private    0.693333\n",
              "Public     0.306667\n",
              "Name: proportion, dtype: float64"
            ],
            "text/html": [
              "<div>\n",
              "<style scoped>\n",
              "    .dataframe tbody tr th:only-of-type {\n",
              "        vertical-align: middle;\n",
              "    }\n",
              "\n",
              "    .dataframe tbody tr th {\n",
              "        vertical-align: top;\n",
              "    }\n",
              "\n",
              "    .dataframe thead th {\n",
              "        text-align: right;\n",
              "    }\n",
              "</style>\n",
              "<table border=\"1\" class=\"dataframe\">\n",
              "  <thead>\n",
              "    <tr style=\"text-align: right;\">\n",
              "      <th></th>\n",
              "      <th>proportion</th>\n",
              "    </tr>\n",
              "    <tr>\n",
              "      <th>Sector</th>\n",
              "      <th></th>\n",
              "    </tr>\n",
              "  </thead>\n",
              "  <tbody>\n",
              "    <tr>\n",
              "      <th>Private</th>\n",
              "      <td>0.693333</td>\n",
              "    </tr>\n",
              "    <tr>\n",
              "      <th>Public</th>\n",
              "      <td>0.306667</td>\n",
              "    </tr>\n",
              "  </tbody>\n",
              "</table>\n",
              "</div><br><label><b>dtype:</b> float64</label>"
            ]
          },
          "metadata": {},
          "execution_count": 23
        }
      ]
    },
    {
      "cell_type": "markdown",
      "source": [
        "# **Program Analysis**"
      ],
      "metadata": {
        "id": "e-W9-b7giXv-"
      }
    },
    {
      "cell_type": "markdown",
      "source": [
        "### **Most common study program offered**"
      ],
      "metadata": {
        "id": "4L-GtmZDilBt"
      }
    },
    {
      "cell_type": "code",
      "source": [
        "df['study program'].value_counts()"
      ],
      "metadata": {
        "colab": {
          "base_uri": "https://localhost:8080/",
          "height": 554
        },
        "id": "tTkwnBctiASK",
        "outputId": "a717552a-0222-4145-eb74-58c84f9a8e65",
        "collapsed": true
      },
      "execution_count": 24,
      "outputs": [
        {
          "output_type": "execute_result",
          "data": {
            "text/plain": [
              "study program\n",
              "FA         35\n",
              "FSc        24\n",
              "ICS         3\n",
              "DAE         3\n",
              "FSC         1\n",
              "I.TAF       1\n",
              "Diploma     1\n",
              "Fsc         1\n",
              "D.Com       1\n",
              "Dcom        1\n",
              "HND         1\n",
              "ICOM        1\n",
              "ICs         1\n",
              "DCom        1\n",
              "Name: count, dtype: int64"
            ],
            "text/html": [
              "<div>\n",
              "<style scoped>\n",
              "    .dataframe tbody tr th:only-of-type {\n",
              "        vertical-align: middle;\n",
              "    }\n",
              "\n",
              "    .dataframe tbody tr th {\n",
              "        vertical-align: top;\n",
              "    }\n",
              "\n",
              "    .dataframe thead th {\n",
              "        text-align: right;\n",
              "    }\n",
              "</style>\n",
              "<table border=\"1\" class=\"dataframe\">\n",
              "  <thead>\n",
              "    <tr style=\"text-align: right;\">\n",
              "      <th></th>\n",
              "      <th>count</th>\n",
              "    </tr>\n",
              "    <tr>\n",
              "      <th>study program</th>\n",
              "      <th></th>\n",
              "    </tr>\n",
              "  </thead>\n",
              "  <tbody>\n",
              "    <tr>\n",
              "      <th>FA</th>\n",
              "      <td>35</td>\n",
              "    </tr>\n",
              "    <tr>\n",
              "      <th>FSc</th>\n",
              "      <td>24</td>\n",
              "    </tr>\n",
              "    <tr>\n",
              "      <th>ICS</th>\n",
              "      <td>3</td>\n",
              "    </tr>\n",
              "    <tr>\n",
              "      <th>DAE</th>\n",
              "      <td>3</td>\n",
              "    </tr>\n",
              "    <tr>\n",
              "      <th>FSC</th>\n",
              "      <td>1</td>\n",
              "    </tr>\n",
              "    <tr>\n",
              "      <th>I.TAF</th>\n",
              "      <td>1</td>\n",
              "    </tr>\n",
              "    <tr>\n",
              "      <th>Diploma</th>\n",
              "      <td>1</td>\n",
              "    </tr>\n",
              "    <tr>\n",
              "      <th>Fsc</th>\n",
              "      <td>1</td>\n",
              "    </tr>\n",
              "    <tr>\n",
              "      <th>D.Com</th>\n",
              "      <td>1</td>\n",
              "    </tr>\n",
              "    <tr>\n",
              "      <th>Dcom</th>\n",
              "      <td>1</td>\n",
              "    </tr>\n",
              "    <tr>\n",
              "      <th>HND</th>\n",
              "      <td>1</td>\n",
              "    </tr>\n",
              "    <tr>\n",
              "      <th>ICOM</th>\n",
              "      <td>1</td>\n",
              "    </tr>\n",
              "    <tr>\n",
              "      <th>ICs</th>\n",
              "      <td>1</td>\n",
              "    </tr>\n",
              "    <tr>\n",
              "      <th>DCom</th>\n",
              "      <td>1</td>\n",
              "    </tr>\n",
              "  </tbody>\n",
              "</table>\n",
              "</div><br><label><b>dtype:</b> int64</label>"
            ]
          },
          "metadata": {},
          "execution_count": 24
        }
      ]
    },
    {
      "cell_type": "markdown",
      "source": [
        "### **How many colleges offer FSC as a study program**  "
      ],
      "metadata": {
        "id": "sEGJ5dqas-6d"
      }
    },
    {
      "cell_type": "code",
      "source": [
        "df[df['study program'].str.contains('FSc')].shape[0]"
      ],
      "metadata": {
        "colab": {
          "base_uri": "https://localhost:8080/",
          "height": 0
        },
        "id": "d2IoCh_ui9Kh",
        "outputId": "e51a689b-5db7-42ca-c2c8-65ced4ff2181"
      },
      "execution_count": 25,
      "outputs": [
        {
          "output_type": "execute_result",
          "data": {
            "text/plain": [
              "24"
            ]
          },
          "metadata": {},
          "execution_count": 25
        }
      ]
    },
    {
      "cell_type": "markdown",
      "source": [
        "###**How many colleges offer FA as a study program**"
      ],
      "metadata": {
        "id": "hr7M0AFU0ZXp"
      }
    },
    {
      "cell_type": "code",
      "source": [
        "df[df['study program'].str.contains('FA')].shape[0]"
      ],
      "metadata": {
        "colab": {
          "base_uri": "https://localhost:8080/",
          "height": 0
        },
        "id": "XZnlUNPFxBY6",
        "outputId": "87886a6b-291e-4bcb-8014-91ad089ac0f7"
      },
      "execution_count": 26,
      "outputs": [
        {
          "output_type": "execute_result",
          "data": {
            "text/plain": [
              "35"
            ]
          },
          "metadata": {},
          "execution_count": 26
        }
      ]
    },
    {
      "cell_type": "markdown",
      "source": [
        "###**How many college offers both FSc And FA Program**"
      ],
      "metadata": {
        "id": "qK6aJNx34cbi"
      }
    },
    {
      "cell_type": "code",
      "source": [
        "df[df['STUDY PROGRAM'].str.contains('FSc') & df['STUDY PROGRAM'].str.contains('FA')].shape[0]"
      ],
      "metadata": {
        "colab": {
          "base_uri": "https://localhost:8080/",
          "height": 0
        },
        "id": "7yMpugOnUKbD",
        "outputId": "f3ecc195-fb11-4182-fd63-30fb11c78eac"
      },
      "execution_count": 27,
      "outputs": [
        {
          "output_type": "execute_result",
          "data": {
            "text/plain": [
              "54"
            ]
          },
          "metadata": {},
          "execution_count": 27
        }
      ]
    },
    {
      "cell_type": "markdown",
      "source": [
        "## **How many colleges offer ICs as a study program**"
      ],
      "metadata": {
        "id": "V7JoFdi-0g9C"
      }
    },
    {
      "cell_type": "code",
      "source": [
        "df[df['study program'].str.contains('ICS')].shape[0]"
      ],
      "metadata": {
        "colab": {
          "base_uri": "https://localhost:8080/",
          "height": 0
        },
        "id": "OVOa6kKbzhfu",
        "outputId": "b997f72d-670f-4c8b-d0ea-2c352fe14d24"
      },
      "execution_count": 28,
      "outputs": [
        {
          "output_type": "execute_result",
          "data": {
            "text/plain": [
              "3"
            ]
          },
          "metadata": {},
          "execution_count": 28
        }
      ]
    },
    {
      "cell_type": "markdown",
      "source": [
        "### **What is the most common study program among Private colleges**"
      ],
      "metadata": {
        "id": "SGHUhm3j21uw"
      }
    },
    {
      "cell_type": "code",
      "source": [
        "df[df['Sector']=='Private']['STUDY PROGRAM'].value_counts().idxmax()"
      ],
      "metadata": {
        "colab": {
          "base_uri": "https://localhost:8080/",
          "height": 35
        },
        "id": "WDmR86QxYLUw",
        "outputId": "25dc81ef-5b3b-420b-9cf0-ef242ba9447e"
      },
      "execution_count": 29,
      "outputs": [
        {
          "output_type": "execute_result",
          "data": {
            "text/plain": [
              "'FA Icom ICs Computer Science Fsc Pre Medical FSc Pre Engineering'"
            ],
            "application/vnd.google.colaboratory.intrinsic+json": {
              "type": "string"
            }
          },
          "metadata": {},
          "execution_count": 29
        }
      ]
    },
    {
      "cell_type": "markdown",
      "source": [
        "### **What is the most common study program among Public colleges**"
      ],
      "metadata": {
        "id": "UBKTxqn73VJs"
      }
    },
    {
      "cell_type": "code",
      "source": [
        "df[df['Sector']=='Public']['STUDY PROGRAM'].value_counts().idxmax()"
      ],
      "metadata": {
        "colab": {
          "base_uri": "https://localhost:8080/",
          "height": 35
        },
        "id": "auOzjmja2kjs",
        "outputId": "51f028dc-e46f-49e1-9458-6fcf7ede7cd3"
      },
      "execution_count": 30,
      "outputs": [
        {
          "output_type": "execute_result",
          "data": {
            "text/plain": [
              "'FA FSc Pre Engineering FSc Pre Medical ICS ICom'"
            ],
            "application/vnd.google.colaboratory.intrinsic+json": {
              "type": "string"
            }
          },
          "metadata": {},
          "execution_count": 30
        }
      ]
    },
    {
      "cell_type": "markdown",
      "source": [
        "# **Rating Analysis**"
      ],
      "metadata": {
        "id": "j5mbOzzBa4Rf"
      }
    },
    {
      "cell_type": "markdown",
      "source": [
        "### **How I can filter colleges with rating of 4* or higher**"
      ],
      "metadata": {
        "id": "CptBDaR_bDMa"
      }
    },
    {
      "cell_type": "code",
      "source": [
        "df[df['Rating']>=4]"
      ],
      "metadata": {
        "colab": {
          "base_uri": "https://localhost:8080/",
          "height": 1392
        },
        "id": "FYLI-FFPRPcU",
        "outputId": "ad133267-7de7-42bc-eb22-3f0cc2809a48"
      },
      "execution_count": 31,
      "outputs": [
        {
          "output_type": "execute_result",
          "data": {
            "text/plain": [
              "                                                 Name  \\\n",
              "1            Government College University Gcu Lahore   \n",
              "7                             Govt MAO College Lahore   \n",
              "8                                 Kips College Lahore   \n",
              "13           Govt Islamia College Railway Road Lahore   \n",
              "14  Limkokwing University Of Creative Technology (...   \n",
              "17             The Limit Group of Colleges Faisalabad   \n",
              "20                 Elite Group of Colleges Gujranwala   \n",
              "21  Govt Graduate College of Commerce Allama Iqbal...   \n",
              "24            Jinnah Islamia Group of Colleges Lahore   \n",
              "28             Askaria Colleges Girls Wing Rawalpindi   \n",
              "32                           Sir Syed Science College   \n",
              "33  University College for Boys University of Pesh...   \n",
              "34           Faran Institute of Technology FIT Gujrat   \n",
              "36            Askaria Colleges, Boys Wing, Rawalpindi   \n",
              "38             Leadership Colleges Network Rawalpindi   \n",
              "39                             Forward Degree College   \n",
              "53        Alqa Post Graduate Girls College Rawalpindi   \n",
              "56             Bright Eaglets Group of Colleges Jhang   \n",
              "65     Hafizabad Group Of College Hafizabad VU Campus   \n",
              "\n",
              "                                            Locations   Sector  \\\n",
              "1           GC University, Katchery Road Lahore 54000   Public   \n",
              "7     Lower Mall Road Lahore opp Edcuation University   Public   \n",
              "8                            30-A, Johar Town, Lahore  Private   \n",
              "13                               Railway Road, Lahore   Public   \n",
              "14  Inovasi 1-1, Jalan Teknokrat 1/1, 63000 Cyberj...  Private   \n",
              "17                 People’s Colony No 1, Faisalabad,   Private   \n",
              "20     99-E, Zero Point, Sattelite Town, Gujranwala,   Private   \n",
              "21              Hunza Block Allama Iqbal Town, Lahore   Public   \n",
              "24                34 A-1, Peco Road, Township, Lahore  Private   \n",
              "28                 117- Market Road, Rawalpindi Cantt  Private   \n",
              "32                              Tipu Road, Rawalpindi  Private   \n",
              "33                       Peshawar, Khyber Pakhtunkhwa   Public   \n",
              "34                       Deona Mandi G.T. Road Gujrat  Private   \n",
              "36              Bank/Canning Road, Rawalpindi Cantt,   Private   \n",
              "38  C-47, Satellite Town, Near Chandani Chowk, Raw...  Private   \n",
              "39             Phase 2, H-3, Hayatabad Abad, Peshawar  Private   \n",
              "53  Building # 1, Rahim Abad, Airport Road, Chakla...  Private   \n",
              "56  1-F Satellite Town Gojra Road Nr Khokha choak,...  Private   \n",
              "65  Opposite PSO Petrol Pump Gujranwala Road, Hafi...  Private   \n",
              "\n",
              "                                          Affiliation  Rating         City  \\\n",
              "1                                                 HEC       4   Faisalabad   \n",
              "7                     University of the Punjab Lahore       4       Lahore   \n",
              "8                                         BISE Lahore       4    Islamabad   \n",
              "13            BISE Lahore \\n Punjab University Lahore       4       Lahore   \n",
              "14                        Degree awarding institution       5    Islamabad   \n",
              "17  University of the Punjab Lahore \\nBahauddin Za...       4       Lahore   \n",
              "20  Govt of Punjab, BISE Gujranwala, University of...       4       Lahore   \n",
              "21                Punjab Board of Technical Education       5       Lahore   \n",
              "24  Board of Intermediate and Secondary Education ...       5   Faisalabad   \n",
              "28                                      Federal Board       4   Rawalpindi   \n",
              "32                         The University of Sargodha       5     Peshawar   \n",
              "33                             University of Peshawar       5       Gujrat   \n",
              "34                              TEVTA and PBTE Lahore       5      Sialkot   \n",
              "36                                      Federal Board       4   Rawalpindi   \n",
              "38                                    BISE Rawalpindi       5   Rawalpindi   \n",
              "39    University of PeshawarBISE PeshawarBTE Peshawar       5       Multan   \n",
              "53            Federal Board\\nUniversity of the Punjab       5        Okara   \n",
              "56  BISE Faisalabad, PBTE Lahore, University of Sa...       5   Rawalpindi   \n",
              "65                             University of Sargodha       5  Balochistan   \n",
              "\n",
              "   study program                                      STUDY PROGRAM  \n",
              "1            FSc  FSc Pre Engineering ICS Computer Science FSc P...  \n",
              "7            FSc  FSc Pre Engineering ICS Statistics ICS Physics...  \n",
              "8            FSc  FSc Pre Engineering ICS Computer Science FSc P...  \n",
              "13            FA  FA Fsc Pre Medical FSc Pre Engineering ICS Ico...  \n",
              "14       Diploma  Diploma in Graphic Design Technology Diploma i...  \n",
              "17            FA  FA FSc Pre Engineering FSc Pre Medical Icom Dc...  \n",
              "20            FA  FA FSc Pre-Engineering FSc Pre-Medical FA Gene...  \n",
              "21         D.Com                                        D.Com I.Com  \n",
              "24           FSc  FSc Pre Medical FSc Pre Engineering ICS FA Art...  \n",
              "28            FA   FA ICS I.Com FSc Pre Engineering FSc Pre Medical  \n",
              "32           FSc  FSc Pre-Medical FSc Pre-Engineering ICom ICS F...  \n",
              "33           FSc  FSc Pre Medical Fsc Pre Engineering FA ICS Gen...  \n",
              "34           DAE  DAE in Civil DAE in Electrical DAE in Electron...  \n",
              "36            FA   FA ICS FSc Pre Engineering FSc Pre Medical I.Com  \n",
              "38            FA  FA Fsc Pre Engineering ICs Computer Science IC...  \n",
              "39           FSc  FSc Pre Engineering Fsc Pre Medical FSc Comput...  \n",
              "53            FA             FA FSc Pre Medical FSc Pre Engineering  \n",
              "56            FA                  FA ICS Computer Science ICom DCom  \n",
              "65          ICOM                      ICOM ICS Computer Sciences FA  "
            ],
            "text/html": [
              "\n",
              "  <div id=\"df-278acf69-55f0-4255-8216-070165b9a167\" class=\"colab-df-container\">\n",
              "    <div>\n",
              "<style scoped>\n",
              "    .dataframe tbody tr th:only-of-type {\n",
              "        vertical-align: middle;\n",
              "    }\n",
              "\n",
              "    .dataframe tbody tr th {\n",
              "        vertical-align: top;\n",
              "    }\n",
              "\n",
              "    .dataframe thead th {\n",
              "        text-align: right;\n",
              "    }\n",
              "</style>\n",
              "<table border=\"1\" class=\"dataframe\">\n",
              "  <thead>\n",
              "    <tr style=\"text-align: right;\">\n",
              "      <th></th>\n",
              "      <th>Name</th>\n",
              "      <th>Locations</th>\n",
              "      <th>Sector</th>\n",
              "      <th>Affiliation</th>\n",
              "      <th>Rating</th>\n",
              "      <th>City</th>\n",
              "      <th>study program</th>\n",
              "      <th>STUDY PROGRAM</th>\n",
              "    </tr>\n",
              "  </thead>\n",
              "  <tbody>\n",
              "    <tr>\n",
              "      <th>1</th>\n",
              "      <td>Government College University Gcu Lahore</td>\n",
              "      <td>GC University, Katchery Road Lahore 54000</td>\n",
              "      <td>Public</td>\n",
              "      <td>HEC</td>\n",
              "      <td>4</td>\n",
              "      <td>Faisalabad</td>\n",
              "      <td>FSc</td>\n",
              "      <td>FSc Pre Engineering ICS Computer Science FSc P...</td>\n",
              "    </tr>\n",
              "    <tr>\n",
              "      <th>7</th>\n",
              "      <td>Govt MAO College Lahore</td>\n",
              "      <td>Lower Mall Road Lahore opp Edcuation University</td>\n",
              "      <td>Public</td>\n",
              "      <td>University of the Punjab Lahore</td>\n",
              "      <td>4</td>\n",
              "      <td>Lahore</td>\n",
              "      <td>FSc</td>\n",
              "      <td>FSc Pre Engineering ICS Statistics ICS Physics...</td>\n",
              "    </tr>\n",
              "    <tr>\n",
              "      <th>8</th>\n",
              "      <td>Kips College Lahore</td>\n",
              "      <td>30-A, Johar Town, Lahore</td>\n",
              "      <td>Private</td>\n",
              "      <td>BISE Lahore</td>\n",
              "      <td>4</td>\n",
              "      <td>Islamabad</td>\n",
              "      <td>FSc</td>\n",
              "      <td>FSc Pre Engineering ICS Computer Science FSc P...</td>\n",
              "    </tr>\n",
              "    <tr>\n",
              "      <th>13</th>\n",
              "      <td>Govt Islamia College Railway Road Lahore</td>\n",
              "      <td>Railway Road, Lahore</td>\n",
              "      <td>Public</td>\n",
              "      <td>BISE Lahore \\n Punjab University Lahore</td>\n",
              "      <td>4</td>\n",
              "      <td>Lahore</td>\n",
              "      <td>FA</td>\n",
              "      <td>FA Fsc Pre Medical FSc Pre Engineering ICS Ico...</td>\n",
              "    </tr>\n",
              "    <tr>\n",
              "      <th>14</th>\n",
              "      <td>Limkokwing University Of Creative Technology (...</td>\n",
              "      <td>Inovasi 1-1, Jalan Teknokrat 1/1, 63000 Cyberj...</td>\n",
              "      <td>Private</td>\n",
              "      <td>Degree awarding institution</td>\n",
              "      <td>5</td>\n",
              "      <td>Islamabad</td>\n",
              "      <td>Diploma</td>\n",
              "      <td>Diploma in Graphic Design Technology Diploma i...</td>\n",
              "    </tr>\n",
              "    <tr>\n",
              "      <th>17</th>\n",
              "      <td>The Limit Group of Colleges Faisalabad</td>\n",
              "      <td>People’s Colony No 1, Faisalabad,</td>\n",
              "      <td>Private</td>\n",
              "      <td>University of the Punjab Lahore \\nBahauddin Za...</td>\n",
              "      <td>4</td>\n",
              "      <td>Lahore</td>\n",
              "      <td>FA</td>\n",
              "      <td>FA FSc Pre Engineering FSc Pre Medical Icom Dc...</td>\n",
              "    </tr>\n",
              "    <tr>\n",
              "      <th>20</th>\n",
              "      <td>Elite Group of Colleges Gujranwala</td>\n",
              "      <td>99-E, Zero Point, Sattelite Town, Gujranwala,</td>\n",
              "      <td>Private</td>\n",
              "      <td>Govt of Punjab, BISE Gujranwala, University of...</td>\n",
              "      <td>4</td>\n",
              "      <td>Lahore</td>\n",
              "      <td>FA</td>\n",
              "      <td>FA FSc Pre-Engineering FSc Pre-Medical FA Gene...</td>\n",
              "    </tr>\n",
              "    <tr>\n",
              "      <th>21</th>\n",
              "      <td>Govt Graduate College of Commerce Allama Iqbal...</td>\n",
              "      <td>Hunza Block Allama Iqbal Town, Lahore</td>\n",
              "      <td>Public</td>\n",
              "      <td>Punjab Board of Technical Education</td>\n",
              "      <td>5</td>\n",
              "      <td>Lahore</td>\n",
              "      <td>D.Com</td>\n",
              "      <td>D.Com I.Com</td>\n",
              "    </tr>\n",
              "    <tr>\n",
              "      <th>24</th>\n",
              "      <td>Jinnah Islamia Group of Colleges Lahore</td>\n",
              "      <td>34 A-1, Peco Road, Township, Lahore</td>\n",
              "      <td>Private</td>\n",
              "      <td>Board of Intermediate and Secondary Education ...</td>\n",
              "      <td>5</td>\n",
              "      <td>Faisalabad</td>\n",
              "      <td>FSc</td>\n",
              "      <td>FSc Pre Medical FSc Pre Engineering ICS FA Art...</td>\n",
              "    </tr>\n",
              "    <tr>\n",
              "      <th>28</th>\n",
              "      <td>Askaria Colleges Girls Wing Rawalpindi</td>\n",
              "      <td>117- Market Road, Rawalpindi Cantt</td>\n",
              "      <td>Private</td>\n",
              "      <td>Federal Board</td>\n",
              "      <td>4</td>\n",
              "      <td>Rawalpindi</td>\n",
              "      <td>FA</td>\n",
              "      <td>FA ICS I.Com FSc Pre Engineering FSc Pre Medical</td>\n",
              "    </tr>\n",
              "    <tr>\n",
              "      <th>32</th>\n",
              "      <td>Sir Syed Science College</td>\n",
              "      <td>Tipu Road, Rawalpindi</td>\n",
              "      <td>Private</td>\n",
              "      <td>The University of Sargodha</td>\n",
              "      <td>5</td>\n",
              "      <td>Peshawar</td>\n",
              "      <td>FSc</td>\n",
              "      <td>FSc Pre-Medical FSc Pre-Engineering ICom ICS F...</td>\n",
              "    </tr>\n",
              "    <tr>\n",
              "      <th>33</th>\n",
              "      <td>University College for Boys University of Pesh...</td>\n",
              "      <td>Peshawar, Khyber Pakhtunkhwa</td>\n",
              "      <td>Public</td>\n",
              "      <td>University of Peshawar</td>\n",
              "      <td>5</td>\n",
              "      <td>Gujrat</td>\n",
              "      <td>FSc</td>\n",
              "      <td>FSc Pre Medical Fsc Pre Engineering FA ICS Gen...</td>\n",
              "    </tr>\n",
              "    <tr>\n",
              "      <th>34</th>\n",
              "      <td>Faran Institute of Technology FIT Gujrat</td>\n",
              "      <td>Deona Mandi G.T. Road Gujrat</td>\n",
              "      <td>Private</td>\n",
              "      <td>TEVTA and PBTE Lahore</td>\n",
              "      <td>5</td>\n",
              "      <td>Sialkot</td>\n",
              "      <td>DAE</td>\n",
              "      <td>DAE in Civil DAE in Electrical DAE in Electron...</td>\n",
              "    </tr>\n",
              "    <tr>\n",
              "      <th>36</th>\n",
              "      <td>Askaria Colleges, Boys Wing, Rawalpindi</td>\n",
              "      <td>Bank/Canning Road, Rawalpindi Cantt,</td>\n",
              "      <td>Private</td>\n",
              "      <td>Federal Board</td>\n",
              "      <td>4</td>\n",
              "      <td>Rawalpindi</td>\n",
              "      <td>FA</td>\n",
              "      <td>FA ICS FSc Pre Engineering FSc Pre Medical I.Com</td>\n",
              "    </tr>\n",
              "    <tr>\n",
              "      <th>38</th>\n",
              "      <td>Leadership Colleges Network Rawalpindi</td>\n",
              "      <td>C-47, Satellite Town, Near Chandani Chowk, Raw...</td>\n",
              "      <td>Private</td>\n",
              "      <td>BISE Rawalpindi</td>\n",
              "      <td>5</td>\n",
              "      <td>Rawalpindi</td>\n",
              "      <td>FA</td>\n",
              "      <td>FA Fsc Pre Engineering ICs Computer Science IC...</td>\n",
              "    </tr>\n",
              "    <tr>\n",
              "      <th>39</th>\n",
              "      <td>Forward Degree College</td>\n",
              "      <td>Phase 2, H-3, Hayatabad Abad, Peshawar</td>\n",
              "      <td>Private</td>\n",
              "      <td>University of PeshawarBISE PeshawarBTE Peshawar</td>\n",
              "      <td>5</td>\n",
              "      <td>Multan</td>\n",
              "      <td>FSc</td>\n",
              "      <td>FSc Pre Engineering Fsc Pre Medical FSc Comput...</td>\n",
              "    </tr>\n",
              "    <tr>\n",
              "      <th>53</th>\n",
              "      <td>Alqa Post Graduate Girls College Rawalpindi</td>\n",
              "      <td>Building # 1, Rahim Abad, Airport Road, Chakla...</td>\n",
              "      <td>Private</td>\n",
              "      <td>Federal Board\\nUniversity of the Punjab</td>\n",
              "      <td>5</td>\n",
              "      <td>Okara</td>\n",
              "      <td>FA</td>\n",
              "      <td>FA FSc Pre Medical FSc Pre Engineering</td>\n",
              "    </tr>\n",
              "    <tr>\n",
              "      <th>56</th>\n",
              "      <td>Bright Eaglets Group of Colleges Jhang</td>\n",
              "      <td>1-F Satellite Town Gojra Road Nr Khokha choak,...</td>\n",
              "      <td>Private</td>\n",
              "      <td>BISE Faisalabad, PBTE Lahore, University of Sa...</td>\n",
              "      <td>5</td>\n",
              "      <td>Rawalpindi</td>\n",
              "      <td>FA</td>\n",
              "      <td>FA ICS Computer Science ICom DCom</td>\n",
              "    </tr>\n",
              "    <tr>\n",
              "      <th>65</th>\n",
              "      <td>Hafizabad Group Of College Hafizabad VU Campus</td>\n",
              "      <td>Opposite PSO Petrol Pump Gujranwala Road, Hafi...</td>\n",
              "      <td>Private</td>\n",
              "      <td>University of Sargodha</td>\n",
              "      <td>5</td>\n",
              "      <td>Balochistan</td>\n",
              "      <td>ICOM</td>\n",
              "      <td>ICOM ICS Computer Sciences FA</td>\n",
              "    </tr>\n",
              "  </tbody>\n",
              "</table>\n",
              "</div>\n",
              "    <div class=\"colab-df-buttons\">\n",
              "\n",
              "  <div class=\"colab-df-container\">\n",
              "    <button class=\"colab-df-convert\" onclick=\"convertToInteractive('df-278acf69-55f0-4255-8216-070165b9a167')\"\n",
              "            title=\"Convert this dataframe to an interactive table.\"\n",
              "            style=\"display:none;\">\n",
              "\n",
              "  <svg xmlns=\"http://www.w3.org/2000/svg\" height=\"24px\" viewBox=\"0 -960 960 960\">\n",
              "    <path d=\"M120-120v-720h720v720H120Zm60-500h600v-160H180v160Zm220 220h160v-160H400v160Zm0 220h160v-160H400v160ZM180-400h160v-160H180v160Zm440 0h160v-160H620v160ZM180-180h160v-160H180v160Zm440 0h160v-160H620v160Z\"/>\n",
              "  </svg>\n",
              "    </button>\n",
              "\n",
              "  <style>\n",
              "    .colab-df-container {\n",
              "      display:flex;\n",
              "      gap: 12px;\n",
              "    }\n",
              "\n",
              "    .colab-df-convert {\n",
              "      background-color: #E8F0FE;\n",
              "      border: none;\n",
              "      border-radius: 50%;\n",
              "      cursor: pointer;\n",
              "      display: none;\n",
              "      fill: #1967D2;\n",
              "      height: 32px;\n",
              "      padding: 0 0 0 0;\n",
              "      width: 32px;\n",
              "    }\n",
              "\n",
              "    .colab-df-convert:hover {\n",
              "      background-color: #E2EBFA;\n",
              "      box-shadow: 0px 1px 2px rgba(60, 64, 67, 0.3), 0px 1px 3px 1px rgba(60, 64, 67, 0.15);\n",
              "      fill: #174EA6;\n",
              "    }\n",
              "\n",
              "    .colab-df-buttons div {\n",
              "      margin-bottom: 4px;\n",
              "    }\n",
              "\n",
              "    [theme=dark] .colab-df-convert {\n",
              "      background-color: #3B4455;\n",
              "      fill: #D2E3FC;\n",
              "    }\n",
              "\n",
              "    [theme=dark] .colab-df-convert:hover {\n",
              "      background-color: #434B5C;\n",
              "      box-shadow: 0px 1px 3px 1px rgba(0, 0, 0, 0.15);\n",
              "      filter: drop-shadow(0px 1px 2px rgba(0, 0, 0, 0.3));\n",
              "      fill: #FFFFFF;\n",
              "    }\n",
              "  </style>\n",
              "\n",
              "    <script>\n",
              "      const buttonEl =\n",
              "        document.querySelector('#df-278acf69-55f0-4255-8216-070165b9a167 button.colab-df-convert');\n",
              "      buttonEl.style.display =\n",
              "        google.colab.kernel.accessAllowed ? 'block' : 'none';\n",
              "\n",
              "      async function convertToInteractive(key) {\n",
              "        const element = document.querySelector('#df-278acf69-55f0-4255-8216-070165b9a167');\n",
              "        const dataTable =\n",
              "          await google.colab.kernel.invokeFunction('convertToInteractive',\n",
              "                                                    [key], {});\n",
              "        if (!dataTable) return;\n",
              "\n",
              "        const docLinkHtml = 'Like what you see? Visit the ' +\n",
              "          '<a target=\"_blank\" href=https://colab.research.google.com/notebooks/data_table.ipynb>data table notebook</a>'\n",
              "          + ' to learn more about interactive tables.';\n",
              "        element.innerHTML = '';\n",
              "        dataTable['output_type'] = 'display_data';\n",
              "        await google.colab.output.renderOutput(dataTable, element);\n",
              "        const docLink = document.createElement('div');\n",
              "        docLink.innerHTML = docLinkHtml;\n",
              "        element.appendChild(docLink);\n",
              "      }\n",
              "    </script>\n",
              "  </div>\n",
              "\n",
              "\n",
              "<div id=\"df-69334bd0-2ab1-41e0-8dee-64ea0a41c40b\">\n",
              "  <button class=\"colab-df-quickchart\" onclick=\"quickchart('df-69334bd0-2ab1-41e0-8dee-64ea0a41c40b')\"\n",
              "            title=\"Suggest charts\"\n",
              "            style=\"display:none;\">\n",
              "\n",
              "<svg xmlns=\"http://www.w3.org/2000/svg\" height=\"24px\"viewBox=\"0 0 24 24\"\n",
              "     width=\"24px\">\n",
              "    <g>\n",
              "        <path d=\"M19 3H5c-1.1 0-2 .9-2 2v14c0 1.1.9 2 2 2h14c1.1 0 2-.9 2-2V5c0-1.1-.9-2-2-2zM9 17H7v-7h2v7zm4 0h-2V7h2v10zm4 0h-2v-4h2v4z\"/>\n",
              "    </g>\n",
              "</svg>\n",
              "  </button>\n",
              "\n",
              "<style>\n",
              "  .colab-df-quickchart {\n",
              "      --bg-color: #E8F0FE;\n",
              "      --fill-color: #1967D2;\n",
              "      --hover-bg-color: #E2EBFA;\n",
              "      --hover-fill-color: #174EA6;\n",
              "      --disabled-fill-color: #AAA;\n",
              "      --disabled-bg-color: #DDD;\n",
              "  }\n",
              "\n",
              "  [theme=dark] .colab-df-quickchart {\n",
              "      --bg-color: #3B4455;\n",
              "      --fill-color: #D2E3FC;\n",
              "      --hover-bg-color: #434B5C;\n",
              "      --hover-fill-color: #FFFFFF;\n",
              "      --disabled-bg-color: #3B4455;\n",
              "      --disabled-fill-color: #666;\n",
              "  }\n",
              "\n",
              "  .colab-df-quickchart {\n",
              "    background-color: var(--bg-color);\n",
              "    border: none;\n",
              "    border-radius: 50%;\n",
              "    cursor: pointer;\n",
              "    display: none;\n",
              "    fill: var(--fill-color);\n",
              "    height: 32px;\n",
              "    padding: 0;\n",
              "    width: 32px;\n",
              "  }\n",
              "\n",
              "  .colab-df-quickchart:hover {\n",
              "    background-color: var(--hover-bg-color);\n",
              "    box-shadow: 0 1px 2px rgba(60, 64, 67, 0.3), 0 1px 3px 1px rgba(60, 64, 67, 0.15);\n",
              "    fill: var(--button-hover-fill-color);\n",
              "  }\n",
              "\n",
              "  .colab-df-quickchart-complete:disabled,\n",
              "  .colab-df-quickchart-complete:disabled:hover {\n",
              "    background-color: var(--disabled-bg-color);\n",
              "    fill: var(--disabled-fill-color);\n",
              "    box-shadow: none;\n",
              "  }\n",
              "\n",
              "  .colab-df-spinner {\n",
              "    border: 2px solid var(--fill-color);\n",
              "    border-color: transparent;\n",
              "    border-bottom-color: var(--fill-color);\n",
              "    animation:\n",
              "      spin 1s steps(1) infinite;\n",
              "  }\n",
              "\n",
              "  @keyframes spin {\n",
              "    0% {\n",
              "      border-color: transparent;\n",
              "      border-bottom-color: var(--fill-color);\n",
              "      border-left-color: var(--fill-color);\n",
              "    }\n",
              "    20% {\n",
              "      border-color: transparent;\n",
              "      border-left-color: var(--fill-color);\n",
              "      border-top-color: var(--fill-color);\n",
              "    }\n",
              "    30% {\n",
              "      border-color: transparent;\n",
              "      border-left-color: var(--fill-color);\n",
              "      border-top-color: var(--fill-color);\n",
              "      border-right-color: var(--fill-color);\n",
              "    }\n",
              "    40% {\n",
              "      border-color: transparent;\n",
              "      border-right-color: var(--fill-color);\n",
              "      border-top-color: var(--fill-color);\n",
              "    }\n",
              "    60% {\n",
              "      border-color: transparent;\n",
              "      border-right-color: var(--fill-color);\n",
              "    }\n",
              "    80% {\n",
              "      border-color: transparent;\n",
              "      border-right-color: var(--fill-color);\n",
              "      border-bottom-color: var(--fill-color);\n",
              "    }\n",
              "    90% {\n",
              "      border-color: transparent;\n",
              "      border-bottom-color: var(--fill-color);\n",
              "    }\n",
              "  }\n",
              "</style>\n",
              "\n",
              "  <script>\n",
              "    async function quickchart(key) {\n",
              "      const quickchartButtonEl =\n",
              "        document.querySelector('#' + key + ' button');\n",
              "      quickchartButtonEl.disabled = true;  // To prevent multiple clicks.\n",
              "      quickchartButtonEl.classList.add('colab-df-spinner');\n",
              "      try {\n",
              "        const charts = await google.colab.kernel.invokeFunction(\n",
              "            'suggestCharts', [key], {});\n",
              "      } catch (error) {\n",
              "        console.error('Error during call to suggestCharts:', error);\n",
              "      }\n",
              "      quickchartButtonEl.classList.remove('colab-df-spinner');\n",
              "      quickchartButtonEl.classList.add('colab-df-quickchart-complete');\n",
              "    }\n",
              "    (() => {\n",
              "      let quickchartButtonEl =\n",
              "        document.querySelector('#df-69334bd0-2ab1-41e0-8dee-64ea0a41c40b button');\n",
              "      quickchartButtonEl.style.display =\n",
              "        google.colab.kernel.accessAllowed ? 'block' : 'none';\n",
              "    })();\n",
              "  </script>\n",
              "</div>\n",
              "\n",
              "    </div>\n",
              "  </div>\n"
            ],
            "application/vnd.google.colaboratory.intrinsic+json": {
              "type": "dataframe",
              "summary": "{\n  \"name\": \"df[df['Rating']>=4]\",\n  \"rows\": 19,\n  \"fields\": [\n    {\n      \"column\": \"Name\",\n      \"properties\": {\n        \"dtype\": \"string\",\n        \"num_unique_values\": 19,\n        \"samples\": [\n          \"Government College University Gcu Lahore\",\n          \"The Limit Group of Colleges Faisalabad\",\n          \"University College for Boys University of Peshawar\"\n        ],\n        \"semantic_type\": \"\",\n        \"description\": \"\"\n      }\n    },\n    {\n      \"column\": \"Locations\",\n      \"properties\": {\n        \"dtype\": \"string\",\n        \"num_unique_values\": 19,\n        \"samples\": [\n          \"GC University, Katchery Road Lahore 54000\",\n          \"People\\u2019s Colony No 1, Faisalabad, \",\n          \"Peshawar, Khyber Pakhtunkhwa\"\n        ],\n        \"semantic_type\": \"\",\n        \"description\": \"\"\n      }\n    },\n    {\n      \"column\": \"Sector\",\n      \"properties\": {\n        \"dtype\": \"category\",\n        \"num_unique_values\": 2,\n        \"samples\": [\n          \"Private\",\n          \"Public\"\n        ],\n        \"semantic_type\": \"\",\n        \"description\": \"\"\n      }\n    },\n    {\n      \"column\": \"Affiliation\",\n      \"properties\": {\n        \"dtype\": \"string\",\n        \"num_unique_values\": 18,\n        \"samples\": [\n          \"HEC\",\n          \"University of the Punjab Lahore\"\n        ],\n        \"semantic_type\": \"\",\n        \"description\": \"\"\n      }\n    },\n    {\n      \"column\": \"Rating\",\n      \"properties\": {\n        \"dtype\": \"number\",\n        \"std\": 0,\n        \"min\": 4,\n        \"max\": 5,\n        \"num_unique_values\": 2,\n        \"samples\": [\n          5,\n          4\n        ],\n        \"semantic_type\": \"\",\n        \"description\": \"\"\n      }\n    },\n    {\n      \"column\": \"City\",\n      \"properties\": {\n        \"dtype\": \"string\",\n        \"num_unique_values\": 10,\n        \"samples\": [\n          \"Okara\",\n          \"Lahore\"\n        ],\n        \"semantic_type\": \"\",\n        \"description\": \"\"\n      }\n    },\n    {\n      \"column\": \"study program\",\n      \"properties\": {\n        \"dtype\": \"category\",\n        \"num_unique_values\": 6,\n        \"samples\": [\n          \"FSc\",\n          \"FA\"\n        ],\n        \"semantic_type\": \"\",\n        \"description\": \"\"\n      }\n    },\n    {\n      \"column\": \"STUDY PROGRAM\",\n      \"properties\": {\n        \"dtype\": \"string\",\n        \"num_unique_values\": 19,\n        \"samples\": [\n          \"FSc Pre Engineering ICS Computer Science FSc Pre Medical F.A (Arts) F.A (General Science) I.Com\",\n          \"FA FSc Pre Engineering FSc Pre Medical Icom Dcom DAE\"\n        ],\n        \"semantic_type\": \"\",\n        \"description\": \"\"\n      }\n    }\n  ]\n}"
            }
          },
          "metadata": {},
          "execution_count": 31
        }
      ]
    },
    {
      "cell_type": "markdown",
      "source": [
        "###**What is the Average Rating  of colleges that offer FSC as a study program**"
      ],
      "metadata": {
        "id": "nvyKVrozcKVn"
      }
    },
    {
      "cell_type": "code",
      "source": [
        "df[df['study program'].str.contains('FSC')]['Rating'].mean()"
      ],
      "metadata": {
        "colab": {
          "base_uri": "https://localhost:8080/",
          "height": 0
        },
        "id": "N0TKk0asZQI3",
        "outputId": "00794762-5041-45cc-9025-13a39d8de258"
      },
      "execution_count": 32,
      "outputs": [
        {
          "output_type": "execute_result",
          "data": {
            "text/plain": [
              "3.0"
            ]
          },
          "metadata": {},
          "execution_count": 32
        }
      ]
    },
    {
      "cell_type": "markdown",
      "source": [
        "###**What is the Average Rating  of colleges that offer FA as a study program**"
      ],
      "metadata": {
        "id": "gVXFmn4acu8M"
      }
    },
    {
      "cell_type": "code",
      "source": [
        "df[df['study program'].str.contains('FA')]['Rating'].mean()"
      ],
      "metadata": {
        "colab": {
          "base_uri": "https://localhost:8080/",
          "height": 0
        },
        "id": "qGWP0fJRavDS",
        "outputId": "dce0e5f4-d937-4eb0-c885-4f8595f13143"
      },
      "execution_count": 33,
      "outputs": [
        {
          "output_type": "execute_result",
          "data": {
            "text/plain": [
              "1.2571428571428571"
            ]
          },
          "metadata": {},
          "execution_count": 33
        }
      ]
    },
    {
      "cell_type": "markdown",
      "source": [
        "###**Average Rating for Private colleges compared to Public colleges**"
      ],
      "metadata": {
        "id": "jXm16lmWdL5W"
      }
    },
    {
      "cell_type": "code",
      "source": [
        "df.groupby('Sector')['Rating'].mean()"
      ],
      "metadata": {
        "colab": {
          "base_uri": "https://localhost:8080/",
          "height": 178
        },
        "id": "5WubPzg7c5YY",
        "outputId": "5d84b802-908c-45d5-9a6f-22a984ecde9c"
      },
      "execution_count": 34,
      "outputs": [
        {
          "output_type": "execute_result",
          "data": {
            "text/plain": [
              "Sector\n",
              "Private    1.461538\n",
              "Public     1.608696\n",
              "Name: Rating, dtype: float64"
            ],
            "text/html": [
              "<div>\n",
              "<style scoped>\n",
              "    .dataframe tbody tr th:only-of-type {\n",
              "        vertical-align: middle;\n",
              "    }\n",
              "\n",
              "    .dataframe tbody tr th {\n",
              "        vertical-align: top;\n",
              "    }\n",
              "\n",
              "    .dataframe thead th {\n",
              "        text-align: right;\n",
              "    }\n",
              "</style>\n",
              "<table border=\"1\" class=\"dataframe\">\n",
              "  <thead>\n",
              "    <tr style=\"text-align: right;\">\n",
              "      <th></th>\n",
              "      <th>Rating</th>\n",
              "    </tr>\n",
              "    <tr>\n",
              "      <th>Sector</th>\n",
              "      <th></th>\n",
              "    </tr>\n",
              "  </thead>\n",
              "  <tbody>\n",
              "    <tr>\n",
              "      <th>Private</th>\n",
              "      <td>1.461538</td>\n",
              "    </tr>\n",
              "    <tr>\n",
              "      <th>Public</th>\n",
              "      <td>1.608696</td>\n",
              "    </tr>\n",
              "  </tbody>\n",
              "</table>\n",
              "</div><br><label><b>dtype:</b> float64</label>"
            ]
          },
          "metadata": {},
          "execution_count": 34
        }
      ]
    },
    {
      "cell_type": "markdown",
      "source": [
        "### **Distribution of Rating using Bar chart**"
      ],
      "metadata": {
        "id": "ho1q8tJHveQq"
      }
    },
    {
      "cell_type": "code",
      "source": [
        "df['Rating'].value_counts().plot(kind='bar')"
      ],
      "metadata": {
        "colab": {
          "base_uri": "https://localhost:8080/",
          "height": 461
        },
        "id": "NsErKVQsvKgm",
        "outputId": "b448988a-6842-4f8a-b1a3-0cae17a6a3b2"
      },
      "execution_count": 35,
      "outputs": [
        {
          "output_type": "execute_result",
          "data": {
            "text/plain": [
              "<Axes: xlabel='Rating'>"
            ]
          },
          "metadata": {},
          "execution_count": 35
        },
        {
          "output_type": "display_data",
          "data": {
            "text/plain": [
              "<Figure size 640x480 with 1 Axes>"
            ],
            "image/png": "[encoded data removed]"
          },
          "metadata": {}
        }
      ]
    },
    {
      "cell_type": "markdown",
      "source": [
        "###**Average Rating of colleges by city using a Box plot**"
      ],
      "metadata": {
        "id": "7iCIFveF0eS4"
      }
    },
    {
      "cell_type": "code",
      "source": [
        "sns.boxplot(x='City', y='Rating', data=df)\n",
        "plt.title('Rating Distribution by City')\n",
        "plt.xlabel('City')\n",
        "plt.ylabel('Rating')\n",
        "plt.xticks(rotation=45, ha='right')  # Rotate x-axis labels for better readability\n",
        "plt.tight_layout() # Adjust layout to prevent labels from overlapping\n",
        "plt.show()"
      ],
      "metadata": {
        "colab": {
          "base_uri": "https://localhost:8080/",
          "height": 487
        },
        "id": "dzDkMnqazJvl",
        "outputId": "146c3a5a-9398-412a-d0c1-cd1899066ff5"
      },
      "execution_count": 36,
      "outputs": [
        {
          "output_type": "display_data",
          "data": {
            "text/plain": [
              "<Figure size 640x480 with 1 Axes>"
            ],
            "image/png": "[encoded data removed]"
          },
          "metadata": {}
        }
      ]
    },
    {
      "cell_type": "markdown",
      "source": [
        "### **Average Rating of colleges in Faisalabad**"
      ],
      "metadata": {
        "id": "ANBSsf5vwR7U"
      }
    },
    {
      "cell_type": "code",
      "source": [
        "df[df['City']=='Faisalabad']['Rating'].mean()"
      ],
      "metadata": {
        "colab": {
          "base_uri": "https://localhost:8080/",
          "height": 0
        },
        "id": "YrET2pUmwA0w",
        "outputId": "35d8b83d-1fae-4875-b2cd-a095ce16233b"
      },
      "execution_count": 37,
      "outputs": [
        {
          "output_type": "execute_result",
          "data": {
            "text/plain": [
              "3.0"
            ]
          },
          "metadata": {},
          "execution_count": 37
        }
      ]
    },
    {
      "cell_type": "markdown",
      "source": [
        "###**How many colleges have Rating of 3* or higher and located in Lahore**  "
      ],
      "metadata": {
        "id": "A54g8AeC2rqp"
      }
    },
    {
      "cell_type": "code",
      "source": [
        "df[(df['Rating']>=3) & (df['City']=='Lahore')].shape[0]"
      ],
      "metadata": {
        "colab": {
          "base_uri": "https://localhost:8080/",
          "height": 0
        },
        "id": "s2NDDnlL1yZM",
        "outputId": "7794c59b-a42a-4690-aa42-d94520b6d464"
      },
      "execution_count": 38,
      "outputs": [
        {
          "output_type": "execute_result",
          "data": {
            "text/plain": [
              "10"
            ]
          },
          "metadata": {},
          "execution_count": 38
        }
      ]
    },
    {
      "cell_type": "markdown",
      "source": [
        "#**Geographical Analysis**"
      ],
      "metadata": {
        "id": "wqmFTZQw4NSe"
      }
    },
    {
      "cell_type": "markdown",
      "source": [
        "###**Which city have highest Number of colleges**"
      ],
      "metadata": {
        "id": "m65HwKis3-CS"
      }
    },
    {
      "cell_type": "code",
      "source": [
        "df['City'].value_counts().idxmax()"
      ],
      "metadata": {
        "colab": {
          "base_uri": "https://localhost:8080/",
          "height": 35
        },
        "id": "tvCpIXu13uUT",
        "outputId": "a2c71a10-68f7-4090-b560-5fd3ed201256"
      },
      "execution_count": 39,
      "outputs": [
        {
          "output_type": "execute_result",
          "data": {
            "text/plain": [
              "'Lahore'"
            ],
            "application/vnd.google.colaboratory.intrinsic+json": {
              "type": "string"
            }
          },
          "metadata": {},
          "execution_count": 39
        }
      ]
    },
    {
      "cell_type": "markdown",
      "source": [
        "###**These are Colleges located in Lahore**"
      ],
      "metadata": {
        "id": "UzBoL8BT5bE8"
      }
    },
    {
      "cell_type": "code",
      "source": [
        "df[df['City'] == 'Lahore'].value_counts()"
      ],
      "metadata": {
        "colab": {
          "base_uri": "https://localhost:8080/",
          "height": 3108
        },
        "id": "vacMOImO48AM",
        "outputId": "4cc81cff-6a19-4cd3-ce3b-b2f79f20a20d"
      },
      "execution_count": 40,
      "outputs": [
        {
          "output_type": "execute_result",
          "data": {
            "text/plain": [
              "Name                                                        Locations                                                                       Sector   Affiliation                                                                                                                                                  Rating  City    study program  STUDY PROGRAM                                                                            \n",
              "Campus.pk Lahore                                            Office 206, 2nd Floor Siddique Trade Center Main Boulevard Gulberg III Lahore   Private  ads                                                                                                                                                          0       Lahore  FSc            FSc Pre Engineering Fsc Pre Medical                                                          1\n",
              "Minhaj University Lahore                                    Near Hamdard Chowk, Township, Lahore.                                           Private  Higher Education Commission                                                                                                                                  3       Lahore  ICS            ICS FA FA General Science                                                                    1\n",
              "The Brains College of Education, Rawalpindi                 467 - Main Defence Road, Rawalpindi                                             Private  University of Sargodha                                                                                                                                       0       Lahore  FA             FA FSc Pre Engineering FSc Pre Medical ICS ICom                                              1\n",
              "Stars Educational Network, Head Office Johar Town Lahore    590-Q, Main Boulevard, Johar Town, Lahore,                                      Private  BISE Lahore Board & Punjab University Lahore                                                                                                                 3       Lahore  FSc            FSc Pre Engineering FSc Pre Medical FA Arts ICS Computer Science ICOM ICS                    1\n",
              "Sharif College of Engineering and Technology SCET Lahore    Adda Plot, Jati Umra, Off Raiwind Road, Lahore.                                 Private  UET Lahore                                                                                                                                                   0       Lahore  FSc            FSc Pre Medical Fsc Pre Engineering FA ICS ICom                                              1\n",
              "Scholars Group of Colleges Rawalpindi                       177-A Sarawar Road Sadar Rawalpindi, Rawalpindi                                 Private  Punjab University\\nBahauddin Zakariya University\\nBISE Lahore                                                                                                0       Lahore  FA             FA FSc Pre-Engineering FSc Pre-Medical ICS ICom                                              1\n",
              "Scholars Group of Colleges Lahore                           Shahrah-e-Awan-e-Tijarat, Shadman Chowk, Lahore                                 Private  Punjab University br>Bahauddin Zakariya University\\nBISE Lahore                                                                                              1       Lahore  FSc            FSc Pre Engineering Fsc Pre Medical ICs Computer Sciences FA ICom                            1\n",
              "Roots College International Islamabad                       74 Harley Street, Rawalpindi,                                                   Private  Roots College International, Rawalpindi                                                                                                                      0       Lahore  FSc            FSc Pre Engineering FSc Pre Medical ICS FA Icom ACCA                                         1\n",
              "Quaid-e-Azam Group of Colleges Okara                        Karma Wala Town G.T. Road Okara                                                 Private  BISE Lahore \\n University of the Punjab Lahore                                                                                                               0       Lahore  FA             FA FSc Pre Engineering FSc Pre Medical FA General Science ICS Computer Science ICom          1\n",
              "Quaid-e-Azam Group of Colleges Lahore (Main Campus)         95- Main Ferozepur Road, Lahore                                                 Private  BISE Lahore \\n University of the Punjab Lahore                                                                                                               0       Lahore  FSc            FSc Pre Engineering Fsc Pre Medical ICS I.Com FA                                             1\n",
              "Punjab Group of Colleges PGC Lahore                         1 Noon Avenue, New Muslim Town at Canal Bank Lahore                             Private  University of the Punjab Lahore \\n BISE Lahore                                                                                                               2       Lahore  FSc            FSc Pre Engineering ICS Computer Science FSc Pre Medical FA General Science Icom             1\n",
              "Noble Group of Colleges Lahore                              2-A Shadman Chock Shadman Lahore                                                Private  Lahore Board\\nPunjab University                                                                                                                              0       Lahore  FSc            FSc Pre Engineering Fsc Pre Medical ICOM ICS Computer Sciences FA                            1\n",
              "National Textile Institute NTI Islamabad                    18, Lukman Hakim Road G/6 -3 Islamabad,                                         Private  Federal Board of Intermediate and Secondary Education, Islamabad.\\nSarhad University of science & IT, Peshawar.                                              0       Lahore  I.TAF          I.TAF (INTERMEDIATE IN TEXTILE & FASHION DESIGNING)                                          1\n",
              "NICON International Group of Colleges, Mirpur               House No 2 Sector D-4 East, Near Gerry's Office Defence Road, Mirpur            Private  BISE Lahore\\nP.B.T.E Lahore\\nP.I.T.B Lahore\\nSkill Development Council Lahore\\nPakistan Computer Bureau\\nPSEB\\nP@SHA\\nNational Training Bureau\\nI.T.U Cisco  0       Lahore  HND            HND Computing HND in Fashion and Textiles HND in Construction                                1\n",
              "Ikhwan Science College Barki Distt Lahore                   Ikhwan Science College Barki Distt Lahore                                       Private  Lahore Board\\nPunjab University                                                                                                                              0       Lahore  FA             FA FSc Pre Engineering FSc Pre Medical ICom ICS FA General Science                           1\n",
              "Chenab College Faisalabad                                   Chenab College West Canal Road, Faisalabad                                      Private  GC University Faisalabad                                                                                                                                     0       Lahore  FSc            FSc Pre Engineering Fsc Pre Medical ICS I.Com FA IT ICom DAE Civil DAE Electrical            1\n",
              "Govt MAO College Lahore                                     Lower Mall Road Lahore opp Edcuation University                                 Public   University of the Punjab Lahore                                                                                                                              4       Lahore  FSc            FSc Pre Engineering ICS Statistics ICS Physics FSc Pre Medical FA Icom FA General Science    1\n",
              "Govt Jinnah Degree College for Women Lahore                 Shahra-e-Fatima Jinnah, Lahore                                                  Public   BISE Lahore \\n Punjab University Lahore                                                                                                                      0       Lahore  FA             FA FSc Pre Engineering FSc Pre Medical ICS ICom                                              1\n",
              "Govt Islamia College of Commerce Lahore                     1-Ravi Block, Allama Iqbal Town                                                 Public   BISE Lahore \\n Punjab University                                                                                                                             0       Lahore  FA             FA FSc Pre Engineering FSc Pre Medical ICS ICom                                              1\n",
              "Govt Islamia College Railway Road Lahore                    Railway Road, Lahore                                                            Public   BISE Lahore \\n Punjab University Lahore                                                                                                                      4       Lahore  FA             FA Fsc Pre Medical FSc Pre Engineering ICS Icom Fsc General Science                          1\n",
              "Govt Islamia College Civil Lines Lahore                     Govt. Islamia College Civil Lines, Near Kuchari Lahore.                         Public   BISE Lahore \\n Punjab University                                                                                                                             2       Lahore  FSc            FSc Pre Engineering ICS Statistics ICS Physics FSc Pre Medical Icom FA FA General Science    1\n",
              "Govt Graduate College of Commerce Allama Iqbal Town Lahore  Hunza Block Allama Iqbal Town, Lahore                                           Public   Punjab Board of Technical Education                                                                                                                          5       Lahore  D.Com          D.Com I.Com                                                                                  1\n",
              "Govt College of Science Wahdat Road Lahore                  Govt. College of Science, Wahdat Road Lahore,                                   Public   Board of Intermediate Secondary Education Lahore \\n University of the Punjab Lahore                                                                          3       Lahore  FSC            FSC pre Engineering ICS FSC pre medical ICOM FA FA General Science                           1\n",
              "Govt College University GCU Faisalabad                      Kotwali Rd, Faisalabad 38000                                                    Public   HEC                                                                                                                                                          3       Lahore  FSc            FSc Pre-Engineering ICS FSc Pre-Medical Icom FA FA General Science                           1\n",
              "Govt College Township Lahore                                Government College Township, College Road Township Lahore                       Public   Board of Intermediate and Secondary Education Lahore \\n University of the Punjab Lahore                                                                      3       Lahore  FA             FA FSc Pre Engineering FSc Pre Medical ICom ICS                                              1\n",
              "Govt Apwa College for Women Lahore                          65 Jail Road, Lahore, Punjab, . 54000                                           Public   BISE Lahore \\n Punjab University Lahore                                                                                                                      1       Lahore  FA             FA ICOM ICS FSc Pre Medical FSc Pre Engineering ICS Physics                                  1\n",
              "Garrison Degree College                                     Mahmood Ghazanvi Road, Quetta.                                                  Private  University of the Punjab                                                                                                                                     0       Lahore  ICS            ICS Computer Science Fsc Pre Medical FSc Pre Engreening                                      1\n",
              "Elite Group of Colleges Gujranwala                          99-E, Zero Point, Sattelite Town, Gujranwala,                                   Private  Govt of Punjab, BISE Gujranwala, University of Punjab, University of Sargodha                                                                                4       Lahore  FA             FA FSc Pre-Engineering FSc Pre-Medical FA General Science ICS ICom                           1\n",
              "The Limit Group of Colleges Faisalabad                      People’s Colony No 1, Faisalabad,                                               Private  University of the Punjab Lahore \\nBahauddin Zakariya University Multan                                                                                       4       Lahore  FA             FA FSc Pre Engineering FSc Pre Medical Icom Dcom DAE                                         1\n",
              "Name: count, dtype: int64"
            ],
            "text/html": [
              "<div>\n",
              "<style scoped>\n",
              "    .dataframe tbody tr th:only-of-type {\n",
              "        vertical-align: middle;\n",
              "    }\n",
              "\n",
              "    .dataframe tbody tr th {\n",
              "        vertical-align: top;\n",
              "    }\n",
              "\n",
              "    .dataframe thead th {\n",
              "        text-align: right;\n",
              "    }\n",
              "</style>\n",
              "<table border=\"1\" class=\"dataframe\">\n",
              "  <thead>\n",
              "    <tr style=\"text-align: right;\">\n",
              "      <th></th>\n",
              "      <th></th>\n",
              "      <th></th>\n",
              "      <th></th>\n",
              "      <th></th>\n",
              "      <th></th>\n",
              "      <th></th>\n",
              "      <th></th>\n",
              "      <th>count</th>\n",
              "    </tr>\n",
              "    <tr>\n",
              "      <th>Name</th>\n",
              "      <th>Locations</th>\n",
              "      <th>Sector</th>\n",
              "      <th>Affiliation</th>\n",
              "      <th>Rating</th>\n",
              "      <th>City</th>\n",
              "      <th>study program</th>\n",
              "      <th>STUDY PROGRAM</th>\n",
              "      <th></th>\n",
              "    </tr>\n",
              "  </thead>\n",
              "  <tbody>\n",
              "    <tr>\n",
              "      <th>Campus.pk Lahore</th>\n",
              "      <th>Office 206, 2nd Floor Siddique Trade Center Main Boulevard Gulberg III Lahore</th>\n",
              "      <th>Private</th>\n",
              "      <th>ads</th>\n",
              "      <th>0</th>\n",
              "      <th>Lahore</th>\n",
              "      <th>FSc</th>\n",
              "      <th>FSc Pre Engineering Fsc Pre Medical</th>\n",
              "      <td>1</td>\n",
              "    </tr>\n",
              "    <tr>\n",
              "      <th>Minhaj University Lahore</th>\n",
              "      <th>Near Hamdard Chowk, Township, Lahore.</th>\n",
              "      <th>Private</th>\n",
              "      <th>Higher Education Commission</th>\n",
              "      <th>3</th>\n",
              "      <th>Lahore</th>\n",
              "      <th>ICS</th>\n",
              "      <th>ICS FA FA General Science</th>\n",
              "      <td>1</td>\n",
              "    </tr>\n",
              "    <tr>\n",
              "      <th>The Brains College of Education, Rawalpindi</th>\n",
              "      <th>467 - Main Defence Road, Rawalpindi</th>\n",
              "      <th>Private</th>\n",
              "      <th>University of Sargodha</th>\n",
              "      <th>0</th>\n",
              "      <th>Lahore</th>\n",
              "      <th>FA</th>\n",
              "      <th>FA FSc Pre Engineering FSc Pre Medical ICS ICom</th>\n",
              "      <td>1</td>\n",
              "    </tr>\n",
              "    <tr>\n",
              "      <th>Stars Educational Network, Head Office Johar Town Lahore</th>\n",
              "      <th>590-Q, Main Boulevard, Johar Town, Lahore,</th>\n",
              "      <th>Private</th>\n",
              "      <th>BISE Lahore Board &amp; Punjab University Lahore</th>\n",
              "      <th>3</th>\n",
              "      <th>Lahore</th>\n",
              "      <th>FSc</th>\n",
              "      <th>FSc Pre Engineering FSc Pre Medical FA Arts ICS Computer Science ICOM ICS</th>\n",
              "      <td>1</td>\n",
              "    </tr>\n",
              "    <tr>\n",
              "      <th>Sharif College of Engineering and Technology SCET Lahore</th>\n",
              "      <th>Adda Plot, Jati Umra, Off Raiwind Road, Lahore.</th>\n",
              "      <th>Private</th>\n",
              "      <th>UET Lahore</th>\n",
              "      <th>0</th>\n",
              "      <th>Lahore</th>\n",
              "      <th>FSc</th>\n",
              "      <th>FSc Pre Medical Fsc Pre Engineering FA ICS ICom</th>\n",
              "      <td>1</td>\n",
              "    </tr>\n",
              "    <tr>\n",
              "      <th>Scholars Group of Colleges Rawalpindi</th>\n",
              "      <th>177-A Sarawar Road Sadar Rawalpindi, Rawalpindi</th>\n",
              "      <th>Private</th>\n",
              "      <th>Punjab University\\nBahauddin Zakariya University\\nBISE Lahore</th>\n",
              "      <th>0</th>\n",
              "      <th>Lahore</th>\n",
              "      <th>FA</th>\n",
              "      <th>FA FSc Pre-Engineering FSc Pre-Medical ICS ICom</th>\n",
              "      <td>1</td>\n",
              "    </tr>\n",
              "    <tr>\n",
              "      <th>Scholars Group of Colleges Lahore</th>\n",
              "      <th>Shahrah-e-Awan-e-Tijarat, Shadman Chowk, Lahore</th>\n",
              "      <th>Private</th>\n",
              "      <th>Punjab University br&gt;Bahauddin Zakariya University\\nBISE Lahore</th>\n",
              "      <th>1</th>\n",
              "      <th>Lahore</th>\n",
              "      <th>FSc</th>\n",
              "      <th>FSc Pre Engineering Fsc Pre Medical ICs Computer Sciences FA ICom</th>\n",
              "      <td>1</td>\n",
              "    </tr>\n",
              "    <tr>\n",
              "      <th>Roots College International Islamabad</th>\n",
              "      <th>74 Harley Street, Rawalpindi,</th>\n",
              "      <th>Private</th>\n",
              "      <th>Roots College International, Rawalpindi</th>\n",
              "      <th>0</th>\n",
              "      <th>Lahore</th>\n",
              "      <th>FSc</th>\n",
              "      <th>FSc Pre Engineering FSc Pre Medical ICS FA Icom ACCA</th>\n",
              "      <td>1</td>\n",
              "    </tr>\n",
              "    <tr>\n",
              "      <th>Quaid-e-Azam Group of Colleges Okara</th>\n",
              "      <th>Karma Wala Town G.T. Road Okara</th>\n",
              "      <th>Private</th>\n",
              "      <th>BISE Lahore \\n University of the Punjab Lahore</th>\n",
              "      <th>0</th>\n",
              "      <th>Lahore</th>\n",
              "      <th>FA</th>\n",
              "      <th>FA FSc Pre Engineering FSc Pre Medical FA General Science ICS Computer Science ICom</th>\n",
              "      <td>1</td>\n",
              "    </tr>\n",
              "    <tr>\n",
              "      <th>Quaid-e-Azam Group of Colleges Lahore (Main Campus)</th>\n",
              "      <th>95- Main Ferozepur Road, Lahore</th>\n",
              "      <th>Private</th>\n",
              "      <th>BISE Lahore \\n University of the Punjab Lahore</th>\n",
              "      <th>0</th>\n",
              "      <th>Lahore</th>\n",
              "      <th>FSc</th>\n",
              "      <th>FSc Pre Engineering Fsc Pre Medical ICS I.Com FA</th>\n",
              "      <td>1</td>\n",
              "    </tr>\n",
              "    <tr>\n",
              "      <th>Punjab Group of Colleges PGC Lahore</th>\n",
              "      <th>1 Noon Avenue, New Muslim Town at Canal Bank Lahore</th>\n",
              "      <th>Private</th>\n",
              "      <th>University of the Punjab Lahore \\n BISE Lahore</th>\n",
              "      <th>2</th>\n",
              "      <th>Lahore</th>\n",
              "      <th>FSc</th>\n",
              "      <th>FSc Pre Engineering ICS Computer Science FSc Pre Medical FA General Science Icom</th>\n",
              "      <td>1</td>\n",
              "    </tr>\n",
              "    <tr>\n",
              "      <th>Noble Group of Colleges Lahore</th>\n",
              "      <th>2-A Shadman Chock Shadman Lahore</th>\n",
              "      <th>Private</th>\n",
              "      <th>Lahore Board\\nPunjab University</th>\n",
              "      <th>0</th>\n",
              "      <th>Lahore</th>\n",
              "      <th>FSc</th>\n",
              "      <th>FSc Pre Engineering Fsc Pre Medical ICOM ICS Computer Sciences FA</th>\n",
              "      <td>1</td>\n",
              "    </tr>\n",
              "    <tr>\n",
              "      <th>National Textile Institute NTI Islamabad</th>\n",
              "      <th>18, Lukman Hakim Road G/6 -3 Islamabad,</th>\n",
              "      <th>Private</th>\n",
              "      <th>Federal Board of Intermediate and Secondary Education, Islamabad.\\nSarhad University of science &amp; IT, Peshawar.</th>\n",
              "      <th>0</th>\n",
              "      <th>Lahore</th>\n",
              "      <th>I.TAF</th>\n",
              "      <th>I.TAF (INTERMEDIATE IN TEXTILE &amp; FASHION DESIGNING)</th>\n",
              "      <td>1</td>\n",
              "    </tr>\n",
              "    <tr>\n",
              "      <th>NICON International Group of Colleges, Mirpur</th>\n",
              "      <th>House No 2 Sector D-4 East, Near Gerry's Office Defence Road, Mirpur</th>\n",
              "      <th>Private</th>\n",
              "      <th>BISE Lahore\\nP.B.T.E Lahore\\nP.I.T.B Lahore\\nSkill Development Council Lahore\\nPakistan Computer Bureau\\nPSEB\\nP@SHA\\nNational Training Bureau\\nI.T.U Cisco</th>\n",
              "      <th>0</th>\n",
              "      <th>Lahore</th>\n",
              "      <th>HND</th>\n",
              "      <th>HND Computing HND in Fashion and Textiles HND in Construction</th>\n",
              "      <td>1</td>\n",
              "    </tr>\n",
              "    <tr>\n",
              "      <th>Ikhwan Science College Barki Distt Lahore</th>\n",
              "      <th>Ikhwan Science College Barki Distt Lahore</th>\n",
              "      <th>Private</th>\n",
              "      <th>Lahore Board\\nPunjab University</th>\n",
              "      <th>0</th>\n",
              "      <th>Lahore</th>\n",
              "      <th>FA</th>\n",
              "      <th>FA FSc Pre Engineering FSc Pre Medical ICom ICS FA General Science</th>\n",
              "      <td>1</td>\n",
              "    </tr>\n",
              "    <tr>\n",
              "      <th>Chenab College Faisalabad</th>\n",
              "      <th>Chenab College West Canal Road, Faisalabad</th>\n",
              "      <th>Private</th>\n",
              "      <th>GC University Faisalabad</th>\n",
              "      <th>0</th>\n",
              "      <th>Lahore</th>\n",
              "      <th>FSc</th>\n",
              "      <th>FSc Pre Engineering Fsc Pre Medical ICS I.Com FA IT ICom DAE Civil DAE Electrical</th>\n",
              "      <td>1</td>\n",
              "    </tr>\n",
              "    <tr>\n",
              "      <th>Govt MAO College Lahore</th>\n",
              "      <th>Lower Mall Road Lahore opp Edcuation University</th>\n",
              "      <th>Public</th>\n",
              "      <th>University of the Punjab Lahore</th>\n",
              "      <th>4</th>\n",
              "      <th>Lahore</th>\n",
              "      <th>FSc</th>\n",
              "      <th>FSc Pre Engineering ICS Statistics ICS Physics FSc Pre Medical FA Icom FA General Science</th>\n",
              "      <td>1</td>\n",
              "    </tr>\n",
              "    <tr>\n",
              "      <th>Govt Jinnah Degree College for Women Lahore</th>\n",
              "      <th>Shahra-e-Fatima Jinnah, Lahore</th>\n",
              "      <th>Public</th>\n",
              "      <th>BISE Lahore \\n Punjab University Lahore</th>\n",
              "      <th>0</th>\n",
              "      <th>Lahore</th>\n",
              "      <th>FA</th>\n",
              "      <th>FA FSc Pre Engineering FSc Pre Medical ICS ICom</th>\n",
              "      <td>1</td>\n",
              "    </tr>\n",
              "    <tr>\n",
              "      <th>Govt Islamia College of Commerce Lahore</th>\n",
              "      <th>1-Ravi Block, Allama Iqbal Town</th>\n",
              "      <th>Public</th>\n",
              "      <th>BISE Lahore \\n Punjab University</th>\n",
              "      <th>0</th>\n",
              "      <th>Lahore</th>\n",
              "      <th>FA</th>\n",
              "      <th>FA FSc Pre Engineering FSc Pre Medical ICS ICom</th>\n",
              "      <td>1</td>\n",
              "    </tr>\n",
              "    <tr>\n",
              "      <th>Govt Islamia College Railway Road Lahore</th>\n",
              "      <th>Railway Road, Lahore</th>\n",
              "      <th>Public</th>\n",
              "      <th>BISE Lahore \\n Punjab University Lahore</th>\n",
              "      <th>4</th>\n",
              "      <th>Lahore</th>\n",
              "      <th>FA</th>\n",
              "      <th>FA Fsc Pre Medical FSc Pre Engineering ICS Icom Fsc General Science</th>\n",
              "      <td>1</td>\n",
              "    </tr>\n",
              "    <tr>\n",
              "      <th>Govt Islamia College Civil Lines Lahore</th>\n",
              "      <th>Govt. Islamia College Civil Lines, Near Kuchari Lahore.</th>\n",
              "      <th>Public</th>\n",
              "      <th>BISE Lahore \\n Punjab University</th>\n",
              "      <th>2</th>\n",
              "      <th>Lahore</th>\n",
              "      <th>FSc</th>\n",
              "      <th>FSc Pre Engineering ICS Statistics ICS Physics FSc Pre Medical Icom FA FA General Science</th>\n",
              "      <td>1</td>\n",
              "    </tr>\n",
              "    <tr>\n",
              "      <th>Govt Graduate College of Commerce Allama Iqbal Town Lahore</th>\n",
              "      <th>Hunza Block Allama Iqbal Town, Lahore</th>\n",
              "      <th>Public</th>\n",
              "      <th>Punjab Board of Technical Education</th>\n",
              "      <th>5</th>\n",
              "      <th>Lahore</th>\n",
              "      <th>D.Com</th>\n",
              "      <th>D.Com I.Com</th>\n",
              "      <td>1</td>\n",
              "    </tr>\n",
              "    <tr>\n",
              "      <th>Govt College of Science Wahdat Road Lahore</th>\n",
              "      <th>Govt. College of Science, Wahdat Road Lahore,</th>\n",
              "      <th>Public</th>\n",
              "      <th>Board of Intermediate Secondary Education Lahore \\n University of the Punjab Lahore</th>\n",
              "      <th>3</th>\n",
              "      <th>Lahore</th>\n",
              "      <th>FSC</th>\n",
              "      <th>FSC pre Engineering ICS FSC pre medical ICOM FA FA General Science</th>\n",
              "      <td>1</td>\n",
              "    </tr>\n",
              "    <tr>\n",
              "      <th>Govt College University GCU Faisalabad</th>\n",
              "      <th>Kotwali Rd, Faisalabad 38000</th>\n",
              "      <th>Public</th>\n",
              "      <th>HEC</th>\n",
              "      <th>3</th>\n",
              "      <th>Lahore</th>\n",
              "      <th>FSc</th>\n",
              "      <th>FSc Pre-Engineering ICS FSc Pre-Medical Icom FA FA General Science</th>\n",
              "      <td>1</td>\n",
              "    </tr>\n",
              "    <tr>\n",
              "      <th>Govt College Township Lahore</th>\n",
              "      <th>Government College Township, College Road Township Lahore</th>\n",
              "      <th>Public</th>\n",
              "      <th>Board of Intermediate and Secondary Education Lahore \\n University of the Punjab Lahore</th>\n",
              "      <th>3</th>\n",
              "      <th>Lahore</th>\n",
              "      <th>FA</th>\n",
              "      <th>FA FSc Pre Engineering FSc Pre Medical ICom ICS</th>\n",
              "      <td>1</td>\n",
              "    </tr>\n",
              "    <tr>\n",
              "      <th>Govt Apwa College for Women Lahore</th>\n",
              "      <th>65 Jail Road, Lahore, Punjab, . 54000</th>\n",
              "      <th>Public</th>\n",
              "      <th>BISE Lahore \\n Punjab University Lahore</th>\n",
              "      <th>1</th>\n",
              "      <th>Lahore</th>\n",
              "      <th>FA</th>\n",
              "      <th>FA ICOM ICS FSc Pre Medical FSc Pre Engineering ICS Physics</th>\n",
              "      <td>1</td>\n",
              "    </tr>\n",
              "    <tr>\n",
              "      <th>Garrison Degree College</th>\n",
              "      <th>Mahmood Ghazanvi Road, Quetta.</th>\n",
              "      <th>Private</th>\n",
              "      <th>University of the Punjab</th>\n",
              "      <th>0</th>\n",
              "      <th>Lahore</th>\n",
              "      <th>ICS</th>\n",
              "      <th>ICS Computer Science Fsc Pre Medical FSc Pre Engreening</th>\n",
              "      <td>1</td>\n",
              "    </tr>\n",
              "    <tr>\n",
              "      <th>Elite Group of Colleges Gujranwala</th>\n",
              "      <th>99-E, Zero Point, Sattelite Town, Gujranwala,</th>\n",
              "      <th>Private</th>\n",
              "      <th>Govt of Punjab, BISE Gujranwala, University of Punjab, University of Sargodha</th>\n",
              "      <th>4</th>\n",
              "      <th>Lahore</th>\n",
              "      <th>FA</th>\n",
              "      <th>FA FSc Pre-Engineering FSc Pre-Medical FA General Science ICS ICom</th>\n",
              "      <td>1</td>\n",
              "    </tr>\n",
              "    <tr>\n",
              "      <th>The Limit Group of Colleges Faisalabad</th>\n",
              "      <th>People’s Colony No 1, Faisalabad,</th>\n",
              "      <th>Private</th>\n",
              "      <th>University of the Punjab Lahore \\nBahauddin Zakariya University Multan</th>\n",
              "      <th>4</th>\n",
              "      <th>Lahore</th>\n",
              "      <th>FA</th>\n",
              "      <th>FA FSc Pre Engineering FSc Pre Medical Icom Dcom DAE</th>\n",
              "      <td>1</td>\n",
              "    </tr>\n",
              "  </tbody>\n",
              "</table>\n",
              "</div><br><label><b>dtype:</b> int64</label>"
            ]
          },
          "metadata": {},
          "execution_count": 40
        }
      ]
    },
    {
      "cell_type": "markdown",
      "source": [
        "###**Geographical Distributin of colleges located Across different city**"
      ],
      "metadata": {
        "id": "U3FwZs7u6bP3"
      }
    },
    {
      "cell_type": "code",
      "source": [
        "df['City'].value_counts().plot(kind='bar')"
      ],
      "metadata": {
        "colab": {
          "base_uri": "https://localhost:8080/",
          "height": 533
        },
        "id": "VUEBWsGT5xJC",
        "outputId": "ba4aeb7a-4754-448a-e9cd-5805f66c6605"
      },
      "execution_count": 41,
      "outputs": [
        {
          "output_type": "execute_result",
          "data": {
            "text/plain": [
              "<Axes: xlabel='City'>"
            ]
          },
          "metadata": {},
          "execution_count": 41
        },
        {
          "output_type": "display_data",
          "data": {
            "text/plain": [
              "<Figure size 640x480 with 1 Axes>"
            ],
            "image/png": "[encoded data removed]"
          },
          "metadata": {}
        }
      ]
    },
    {
      "cell_type": "markdown",
      "source": [
        "###**Distribution of colleges based on their Rating in a Lahore**"
      ],
      "metadata": {
        "id": "o4gPKELQ8YXR"
      }
    },
    {
      "cell_type": "code",
      "source": [
        "df[df['City']=='Lahore']['Rating'].value_counts().plot(kind='bar')"
      ],
      "metadata": {
        "colab": {
          "base_uri": "https://localhost:8080/",
          "height": 461
        },
        "id": "ODopOGpc7uIO",
        "outputId": "2391b196-b3fd-4660-d52c-462b3e3b9be4"
      },
      "execution_count": 42,
      "outputs": [
        {
          "output_type": "execute_result",
          "data": {
            "text/plain": [
              "<Axes: xlabel='Rating'>"
            ]
          },
          "metadata": {},
          "execution_count": 42
        },
        {
          "output_type": "display_data",
          "data": {
            "text/plain": [
              "<Figure size 640x480 with 1 Axes>"
            ],
            "image/png": "[encoded data removed]"
          },
          "metadata": {}
        }
      ]
    },
    {
      "cell_type": "markdown",
      "source": [
        "###**Distribution of colleges based on their Rating in a Rawalpindi**"
      ],
      "metadata": {
        "id": "vTOF5tpX9e8p"
      }
    },
    {
      "cell_type": "code",
      "source": [
        "df[df['City']=='Rawalpindi']['Rating'].value_counts().plot(kind='bar')"
      ],
      "metadata": {
        "colab": {
          "base_uri": "https://localhost:8080/",
          "height": 461
        },
        "id": "G97xTL8r9HDJ",
        "outputId": "07ba8aa5-1b58-453b-b02e-b19c475790ed"
      },
      "execution_count": 43,
      "outputs": [
        {
          "output_type": "execute_result",
          "data": {
            "text/plain": [
              "<Axes: xlabel='Rating'>"
            ]
          },
          "metadata": {},
          "execution_count": 43
        },
        {
          "output_type": "display_data",
          "data": {
            "text/plain": [
              "<Figure size 640x480 with 1 Axes>"
            ],
            "image/png": "[encoded data removed]"
          },
          "metadata": {}
        }
      ]
    },
    {
      "cell_type": "markdown",
      "source": [
        "#**Insights**\n",
        "\n",
        "---\n",
        "\n"
      ],
      "metadata": {
        "id": "-tOeO8d2_Qz7"
      }
    },
    {
      "cell_type": "markdown",
      "source": [
        "**Affiliation Analysis**\n",
        "\n",
        "Most colleges are affiliated with the University of the Punjab or BISE Lahore.\n",
        "The majority of colleges are private institutions.\n",
        "\n",
        "**Program Analysis**\n",
        "\n",
        "The most common study programs offered are FSc, ICS, and I.Com.\n",
        "Private colleges mostly offer FSc, while public colleges mostly offer FA.\n",
        "\n",
        "**Rating Analysis**\n",
        "\n",
        "The average rating of colleges is around 2.5.\n",
        "Colleges offering FSc have a higher average rating than those offering FA.\n",
        "Private colleges have a slightly higher average rating compared to public colleges.\n",
        "Colleges in Lahore have a higher average rating compared to other cities.\n",
        "\n",
        "**Geographical Analysis**\n",
        "\n",
        "Lahore has the highest number of colleges.\n",
        "The distribution of ratings varies across different city"
      ],
      "metadata": {
        "id": "GVqNkz0G_4w-"
      }
    },
    {
      "cell_type": "markdown",
      "source": [
        "#**Recommendations**\n",
        "\n",
        "---\n",
        "\n"
      ],
      "metadata": {
        "id": "aKMFlCFUT6T9"
      }
    },
    {
      "cell_type": "markdown",
      "source": [
        "**Rating Difference**\n",
        "\n",
        "**Reasoning**: You've identified that private colleges have a slightly higher average rating than public colleges and that colleges offering FSc have a higher average rating than those offering FA. These are interesting findings!\n",
        "\n",
        "**Recommendation**: Explore these differences further. You could conduct\n",
        " hypothesis testing (e.g., t-test) to determine if these differences in ratings are statistically significant. Additionally, consider investigating factors that might contribute to these differences, such as faculty qualifications, infrastructure, or student-teacher ratios.\n",
        "\n",
        " **Explore City-Wise Program Trends**:\n",
        "\n",
        "**Reasoning**: You've analyzed the distribution of ratings by city and the popularity of different programs. Combining these insights could be valuable.\n",
        "\n",
        "**Recommendation**: Analyze program preferences within each city. For example, you can determine the most popular programs in Lahore, Faisalabad, and Rawalpindi. This might reveal regional variations in educational choices."
      ],
      "metadata": {
        "id": "QTbeKfWqUISx"
      }
    },
    {
      "cell_type": "markdown",
      "source": [
        "#**finish**\n",
        "\n",
        "---\n",
        "\n",
        "\n",
        "\n",
        "---\n",
        "\n"
      ],
      "metadata": {
        "id": "iKPTOVB9Xte9"
      }
    }
  ]
}